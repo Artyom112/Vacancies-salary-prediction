{
  "nbformat": 4,
  "nbformat_minor": 0,
  "metadata": {
    "colab": {
      "name": "Untitled36.ipynb",
      "provenance": []
    },
    "kernelspec": {
      "name": "python3",
      "display_name": "Python 3"
    },
    "accelerator": "GPU"
  },
  "cells": [
    {
      "cell_type": "code",
      "metadata": {
        "id": "N32iNbCj4GIG"
      },
      "source": [
        "import numpy as np\n",
        "import pandas as pd\n",
        "import matplotlib.pyplot as plt\n",
        "%matplotlib inline"
      ],
      "execution_count": 27,
      "outputs": []
    },
    {
      "cell_type": "markdown",
      "metadata": {
        "id": "lBK-MRqRAvPv"
      },
      "source": [
        "Download data"
      ]
    },
    {
      "cell_type": "code",
      "metadata": {
        "id": "0uQ-SpOu4GIN",
        "outputId": "d7da1f7c-36f5-48a9-b391-a03ed757dee7",
        "colab": {
          "base_uri": "https://localhost:8080/"
        }
      },
      "source": [
        "!curl -L https://www.dropbox.com/s/5msc5ix7ndyba10/Train_rev1.csv.tar.gz?dl=1 -o Train_rev1.csv.tar.gz\n",
        "!tar -xvzf ./Train_rev1.csv.tar.gz\n",
        "data = pd.read_csv(\"./Train_rev1.csv\", index_col=None)\n",
        "data.shape"
      ],
      "execution_count": 28,
      "outputs": [
        {
          "output_type": "stream",
          "text": [
            "  % Total    % Received % Xferd  Average Speed   Time    Time     Time  Current\n",
            "                                 Dload  Upload   Total   Spent    Left  Speed\n",
            "  0     0    0     0    0     0      0      0 --:--:-- --:--:-- --:--:--     0\n",
            "  0     0    0     0    0     0      0      0 --:--:-- --:--:-- --:--:--     0\n",
            "100  119M  100  119M    0     0  33.2M      0  0:00:03  0:00:03 --:--:-- 53.4M\n",
            "Train_rev1.csv\n"
          ],
          "name": "stdout"
        },
        {
          "output_type": "execute_result",
          "data": {
            "text/plain": [
              "(244768, 12)"
            ]
          },
          "metadata": {
            "tags": []
          },
          "execution_count": 28
        }
      ]
    },
    {
      "cell_type": "markdown",
      "metadata": {
        "id": "SoSO8qksAeU0"
      },
      "source": [
        "The salary distribution is fat-tailed on the right side, which is inconvenient for minimization. Lets normalize salaries using log transformation."
      ]
    },
    {
      "cell_type": "code",
      "metadata": {
        "id": "1IWBJGHd4GIU",
        "outputId": "f6269b6b-9ced-4958-a9b1-2c34dfd25771",
        "colab": {
          "base_uri": "https://localhost:8080/",
          "height": 390
        }
      },
      "source": [
        "data['Log1pSalary'] = np.log1p(data['SalaryNormalized']).astype('float32')\n",
        "\n",
        "plt.figure(figsize=[12, 6])\n",
        "plt.subplot(1, 2, 1)\n",
        "plt.title('Salary')\n",
        "plt.hist(data[\"SalaryNormalized\"], bins=20);\n",
        "\n",
        "plt.subplot(1, 2, 2)\n",
        "plt.title('Log salary')\n",
        "plt.hist(data['Log1pSalary'], bins=20);"
      ],
      "execution_count": 29,
      "outputs": [
        {
          "output_type": "display_data",
          "data": {
            "image/png": "[encoded data removed]",
            "text/plain": [
              "<Figure size 864x432 with 2 Axes>"
            ]
          },
          "metadata": {
            "tags": [],
            "needs_background": "light"
          }
        }
      ]
    },
    {
      "cell_type": "code",
      "metadata": {
        "id": "HutcIj3N4GIa",
        "outputId": "2aa3c1b1-7828-4fa7-ed7d-fedf11b8faa7",
        "colab": {
          "base_uri": "https://localhost:8080/",
          "height": 315
        }
      },
      "source": [
        "text_columns = [\"Title\", \"FullDescription\"]\n",
        "categorical_columns = [\"Category\", \"Company\", \"LocationNormalized\", \"ContractType\", \"ContractTime\"]\n",
        "target_column = \"Log1pSalary\"\n",
        "\n",
        "data[categorical_columns] = data[categorical_columns].fillna('NaN')\n",
        "\n",
        "data.sample(3)"
      ],
      "execution_count": 30,
      "outputs": [
        {
          "output_type": "execute_result",
          "data": {
            "text/html": [
              "<div>\n",
              "<style scoped>\n",
              "    .dataframe tbody tr th:only-of-type {\n",
              "        vertical-align: middle;\n",
              "    }\n",
              "\n",
              "    .dataframe tbody tr th {\n",
              "        vertical-align: top;\n",
              "    }\n",
              "\n",
              "    .dataframe thead th {\n",
              "        text-align: right;\n",
              "    }\n",
              "</style>\n",
              "<table border=\"1\" class=\"dataframe\">\n",
              "  <thead>\n",
              "    <tr style=\"text-align: right;\">\n",
              "      <th></th>\n",
              "      <th>Id</th>\n",
              "      <th>Title</th>\n",
              "      <th>FullDescription</th>\n",
              "      <th>LocationRaw</th>\n",
              "      <th>LocationNormalized</th>\n",
              "      <th>ContractType</th>\n",
              "      <th>ContractTime</th>\n",
              "      <th>Company</th>\n",
              "      <th>Category</th>\n",
              "      <th>SalaryRaw</th>\n",
              "      <th>SalaryNormalized</th>\n",
              "      <th>SourceName</th>\n",
              "      <th>Log1pSalary</th>\n",
              "    </tr>\n",
              "  </thead>\n",
              "  <tbody>\n",
              "    <tr>\n",
              "      <th>111217</th>\n",
              "      <td>69684329</td>\n",
              "      <td>Travel Consultant</td>\n",
              "      <td>Global travel company, Flight Centre, has an e...</td>\n",
              "      <td>Woking</td>\n",
              "      <td>Woking</td>\n",
              "      <td>full_time</td>\n",
              "      <td>NaN</td>\n",
              "      <td>Flight Centre</td>\n",
              "      <td>Sales Jobs</td>\n",
              "      <td>27000</td>\n",
              "      <td>27000</td>\n",
              "      <td>careerbuilder.com</td>\n",
              "      <td>10.203629</td>\n",
              "    </tr>\n",
              "    <tr>\n",
              "      <th>130868</th>\n",
              "      <td>70172229</td>\n",
              "      <td>RGN</td>\n",
              "      <td>RGN URGENTLY REQUIRED This stunning medium siz...</td>\n",
              "      <td>London</td>\n",
              "      <td>London</td>\n",
              "      <td>NaN</td>\n",
              "      <td>contract</td>\n",
              "      <td>Bond Recruitment</td>\n",
              "      <td>Social work Jobs</td>\n",
              "      <td>28000 - 30000/annum Pension Life Insurance</td>\n",
              "      <td>29000</td>\n",
              "      <td>cv-library.co.uk</td>\n",
              "      <td>10.275085</td>\n",
              "    </tr>\n",
              "    <tr>\n",
              "      <th>131930</th>\n",
              "      <td>70208266</td>\n",
              "      <td>JUNIOR BD MANAGER  INSURANCE</td>\n",
              "      <td>Totum are working on a fantastic opportunity f...</td>\n",
              "      <td>London, England</td>\n",
              "      <td>London</td>\n",
              "      <td>NaN</td>\n",
              "      <td>NaN</td>\n",
              "      <td>NaN</td>\n",
              "      <td>PR, Advertising &amp; Marketing Jobs</td>\n",
              "      <td>45000 per annum</td>\n",
              "      <td>45000</td>\n",
              "      <td>onlymarketingjobs.com</td>\n",
              "      <td>10.714440</td>\n",
              "    </tr>\n",
              "  </tbody>\n",
              "</table>\n",
              "</div>"
            ],
            "text/plain": [
              "              Id  ... Log1pSalary\n",
              "111217  69684329  ...   10.203629\n",
              "130868  70172229  ...   10.275085\n",
              "131930  70208266  ...   10.714440\n",
              "\n",
              "[3 rows x 13 columns]"
            ]
          },
          "metadata": {
            "tags": []
          },
          "execution_count": 30
        }
      ]
    },
    {
      "cell_type": "code",
      "metadata": {
        "id": "LkpNLVRm4GIh",
        "outputId": "ba3e60b6-d18e-4fc9-9839-6f84b8117f62",
        "colab": {
          "base_uri": "https://localhost:8080/"
        }
      },
      "source": [
        "print(\"Raw text:\")\n",
        "print(data[\"FullDescription\"][2::100000])"
      ],
      "execution_count": 31,
      "outputs": [
        {
          "output_type": "stream",
          "text": [
            "Raw text:\n",
            "2         Mathematical Modeller / Simulation Analyst / O...\n",
            "100002    A successful and high achieving specialist sch...\n",
            "200002    Web Designer  HTML, CSS, JavaScript, Photoshop...\n",
            "Name: FullDescription, dtype: object\n"
          ],
          "name": "stdout"
        }
      ]
    },
    {
      "cell_type": "markdown",
      "metadata": {
        "id": "QNtLJJqx5fmw"
      },
      "source": [
        "Lower strings in Title and FullDescription and tokenize. After that, join the tokens into a single string using ' '.join()"
      ]
    },
    {
      "cell_type": "code",
      "metadata": {
        "id": "NvJWuIMu4GIu"
      },
      "source": [
        "import nltk\n",
        "tokenizer = nltk.tokenize.WordPunctTokenizer()\n",
        "\n",
        "data['FullDescription'] = data['FullDescription'].apply(str).apply(str.lower).apply(tokenizer.tokenize).apply(' '.join)\n",
        "data['Title'] = data['Title'].apply(str).apply(str.lower).apply(tokenizer.tokenize).apply(' '.join)"
      ],
      "execution_count": 32,
      "outputs": []
    },
    {
      "cell_type": "code",
      "metadata": {
        "id": "pfNqqMCa4GIx",
        "outputId": "7948b9e3-e7ff-4ccf-fb99-b73f1b3b2371",
        "colab": {
          "base_uri": "https://localhost:8080/"
        }
      },
      "source": [
        "print(\"Tokenized:\")\n",
        "print(data[\"FullDescription\"][2::100000])"
      ],
      "execution_count": 33,
      "outputs": [
        {
          "output_type": "stream",
          "text": [
            "Tokenized:\n",
            "2         mathematical modeller / simulation analyst / o...\n",
            "100002    a successful and high achieving specialist sch...\n",
            "200002    web designer html , css , javascript , photosh...\n",
            "Name: FullDescription, dtype: object\n"
          ],
          "name": "stdout"
        }
      ]
    },
    {
      "cell_type": "markdown",
      "metadata": {
        "id": "idk2NIrj6NLe"
      },
      "source": [
        "Count the occurences of each word in both Title and FullDescription"
      ]
    },
    {
      "cell_type": "code",
      "metadata": {
        "id": "8vKmGZ4V4GI5"
      },
      "source": [
        "from collections import Counter\n",
        "\n",
        "token_counts = Counter()\n",
        "\n",
        "for column in text_columns:\n",
        "  for text in data[column].values:\n",
        "    token_counts.update(text.split())\n"
      ],
      "execution_count": 34,
      "outputs": []
    },
    {
      "cell_type": "code",
      "metadata": {
        "id": "lq_xmKpO4GI8",
        "outputId": "d8957a8b-b7fc-4d10-cc69-b014c551ddee",
        "colab": {
          "base_uri": "https://localhost:8080/"
        }
      },
      "source": [
        "print(\"Total unique tokens :\", len(token_counts))\n",
        "print('\\n'.join(map(str, token_counts.most_common(n=5))))\n",
        "print('...')\n",
        "print('\\n'.join(map(str, token_counts.most_common()[-3:])))"
      ],
      "execution_count": 35,
      "outputs": [
        {
          "output_type": "stream",
          "text": [
            "Total unique tokens : 202704\n",
            "('and', 2657388)\n",
            "('.', 2523216)\n",
            "(',', 2318606)\n",
            "('the', 2080994)\n",
            "('to', 2019884)\n",
            "...\n",
            "('stephanietraveltraderecruitmnt', 1)\n",
            "('ruabon', 1)\n",
            "('lowehays', 1)\n",
            "Correct!\n"
          ],
          "name": "stdout"
        }
      ]
    },
    {
      "cell_type": "markdown",
      "metadata": {
        "id": "hsOvn2Fm8b_d"
      },
      "source": [
        "Distribution of word counts by index"
      ]
    },
    {
      "cell_type": "code",
      "metadata": {
        "id": "0oRRow3c4GI-",
        "outputId": "b4b89fb2-a790-4bb5-8775-a3841022f367",
        "colab": {
          "base_uri": "https://localhost:8080/",
          "height": 497
        }
      },
      "source": [
        "plt.figure(figsize=(15, 8))\n",
        "plt.hist(list(token_counts.values()), range=[0, 10**4], bins=50, log=True)\n",
        "plt.xlabel(\"Word counts\");"
      ],
      "execution_count": 36,
      "outputs": [
        {
          "output_type": "display_data",
          "data": {
            "image/png": "[encoded data removed]",
            "text/plain": [
              "<Figure size 1080x576 with 1 Axes>"
            ]
          },
          "metadata": {
            "tags": [],
            "needs_background": "light"
          }
        }
      ]
    },
    {
      "cell_type": "markdown",
      "metadata": {
        "id": "TYtZ5EaM8l_Z"
      },
      "source": [
        "Remove words that occure less than 10 times"
      ]
    },
    {
      "cell_type": "code",
      "metadata": {
        "id": "Vj_1V7Si4GJC"
      },
      "source": [
        "min_count = 10\n",
        "\n",
        "tokens = {k: v for k, v in token_counts.items() if v >= min_count}"
      ],
      "execution_count": 37,
      "outputs": []
    },
    {
      "cell_type": "markdown",
      "metadata": {
        "id": "F705bscV84QY"
      },
      "source": [
        " Add special tokens for unknown and empty words"
      ]
    },
    {
      "cell_type": "code",
      "metadata": {
        "id": "Dx26HI974GJG",
        "outputId": "c995974c-0cf6-4a90-cdbd-68c5eda12f57",
        "colab": {
          "base_uri": "https://localhost:8080/"
        }
      },
      "source": [
        "UNK, PAD = \"UNK\", \"PAD\"\n",
        "tokens = [UNK, PAD] + sorted(tokens)\n",
        "print(\"Vocabulary size:\", len(tokens))"
      ],
      "execution_count": 38,
      "outputs": [
        {
          "output_type": "stream",
          "text": [
            "Vocabulary size: 34158\n",
            "Correct!\n"
          ],
          "name": "stdout"
        }
      ]
    },
    {
      "cell_type": "markdown",
      "metadata": {
        "id": "IjHst1lg9Rn_"
      },
      "source": [
        "Build a dictionary that maps each word to its index based on the number of occurences"
      ]
    },
    {
      "cell_type": "code",
      "metadata": {
        "id": "2lIU8TLg9Idu"
      },
      "source": [
        "token_to_id = {token: i for i, token in enumerate(tokens)}"
      ],
      "execution_count": 39,
      "outputs": []
    },
    {
      "cell_type": "markdown",
      "metadata": {
        "id": "_NssAdq69-PW"
      },
      "source": [
        "Function that converts array of strings into padded numerial matrices "
      ]
    },
    {
      "cell_type": "code",
      "metadata": {
        "id": "Wb7aZfm94GJS"
      },
      "source": [
        "UNK_IX, PAD_IX = map(token_to_id.get, [UNK, PAD])\n",
        "\n",
        "def as_matrix(sequences, max_len=None):\n",
        "    \"\"\" Convert a list of tokens into a matrix with padding \"\"\"\n",
        "    if isinstance(sequences[0], str):\n",
        "        sequences = list(map(str.split, sequences))\n",
        "        \n",
        "    max_len = min(max(map(len, sequences)), max_len or float('inf'))\n",
        "    \n",
        "    matrix = np.full((len(sequences), max_len), np.int32(PAD_IX))\n",
        "    for i,seq in enumerate(sequences):\n",
        "        row_ix = [token_to_id.get(word, UNK_IX) for word in seq[:max_len]] #или 0 или индекс по встречаемости\n",
        "        matrix[i, :len(row_ix)] = row_ix\n",
        "    \n",
        "    return matrix"
      ],
      "execution_count": 41,
      "outputs": []
    },
    {
      "cell_type": "code",
      "metadata": {
        "id": "-mt3d6JK4GJb",
        "outputId": "f5ea96ec-3c9b-4810-9702-3ee3b62ba12d",
        "colab": {
          "base_uri": "https://localhost:8080/"
        }
      },
      "source": [
        "print(\"Lines:\")\n",
        "print('\\n'.join(data[\"Title\"][::100000].values), end='\\n\\n')\n",
        "print(\"Matrix:\")\n",
        "print(as_matrix(data[\"Title\"][::100000]))"
      ],
      "execution_count": 42,
      "outputs": [
        {
          "output_type": "stream",
          "text": [
            "Lines:\n",
            "engineering systems analyst\n",
            "hr assistant\n",
            "senior ec & i engineer\n",
            "\n",
            "Matrix:\n",
            "[[10807 30161  2166     1     1]\n",
            " [15020  2844     1     1     1]\n",
            " [27645 10201    16 15215 10804]]\n"
          ],
          "name": "stdout"
        }
      ]
    },
    {
      "cell_type": "markdown",
      "metadata": {
        "id": "8JFpl2Ss-P_y"
      },
      "source": [
        "Encode categorical attributes using one-hot *encoder*"
      ]
    },
    {
      "cell_type": "code",
      "metadata": {
        "id": "qUBWQE8F4GJq",
        "outputId": "6a37e362-e99b-45ae-877f-d615ab96d71a",
        "colab": {
          "base_uri": "https://localhost:8080/"
        }
      },
      "source": [
        "from sklearn.feature_extraction import DictVectorizer\n",
        "\n",
        "# we only consider top-1k most frequent companies to minimize memory usage\n",
        "top_companies, top_counts = zip(*Counter(data['Company']).most_common(1000))\n",
        "recognized_companies = set(top_companies)\n",
        "data[\"Company\"] = data[\"Company\"].apply(lambda comp: comp if comp in recognized_companies else \"Other\")\n",
        "\n",
        "categorical_vectorizer = DictVectorizer(dtype=np.float32, sparse=False)\n",
        "categorical_vectorizer.fit(data[categorical_columns].apply(dict, axis=1))"
      ],
      "execution_count": 43,
      "outputs": [
        {
          "output_type": "execute_result",
          "data": {
            "text/plain": [
              "DictVectorizer(dtype=<class 'numpy.float32'>, separator='=', sort=True,\n",
              "               sparse=False)"
            ]
          },
          "metadata": {
            "tags": []
          },
          "execution_count": 43
        }
      ]
    },
    {
      "cell_type": "markdown",
      "metadata": {
        "id": "Pa0iipJW40Nj"
      },
      "source": [
        "**The deep learning part**"
      ]
    },
    {
      "cell_type": "markdown",
      "metadata": {
        "id": "nuGYuguM5ADL"
      },
      "source": [
        "Split the data into training and validation"
      ]
    },
    {
      "cell_type": "code",
      "metadata": {
        "id": "f2L4NrHD4GJt",
        "outputId": "28b8ec3a-3a4a-4583-a316-11b3301ca896",
        "colab": {
          "base_uri": "https://localhost:8080/"
        }
      },
      "source": [
        "from sklearn.model_selection import train_test_split\n",
        "\n",
        "data_train, data_val = train_test_split(data, test_size=0.2, random_state=42)\n",
        "data_train.index = range(len(data_train)) \n",
        "data_val.index = range(len(data_val)) #index from 0\n",
        "\n",
        "print(\"Train size = \", len(data_train))\n",
        "print(\"Validation size = \", len(data_val))"
      ],
      "execution_count": 44,
      "outputs": [
        {
          "output_type": "stream",
          "text": [
            "Train size =  195814\n",
            "Validation size =  48954\n"
          ],
          "name": "stdout"
        }
      ]
    },
    {
      "cell_type": "markdown",
      "metadata": {
        "id": "KvDNeVwU5HZc"
      },
      "source": [
        "Function to create a batch"
      ]
    },
    {
      "cell_type": "code",
      "metadata": {
        "id": "yYstiEW54GJw"
      },
      "source": [
        "def make_batch(data, max_len=None, word_dropout=0):\n",
        "    batch = {}\n",
        "    batch[\"Title\"] = as_matrix(data[\"Title\"].values, max_len)\n",
        "    batch[\"FullDescription\"] = as_matrix(data[\"FullDescription\"].values, max_len)\n",
        "    batch['Categorical'] = categorical_vectorizer.transform(data[categorical_columns].apply(dict, axis=1))\n",
        "    \n",
        "    if word_dropout != 0:\n",
        "        batch[\"FullDescription\"] = apply_word_dropout(batch[\"FullDescription\"], 1. - word_dropout)\n",
        "    \n",
        "    if target_column in data.columns:\n",
        "        batch[target_column] = data[target_column].values\n",
        "    \n",
        "    return batch\n",
        "\n",
        "def apply_word_dropout(matrix, keep_prop, replace_with=UNK_IX, pad_ix=PAD_IX,):\n",
        "    dropout_mask = np.random.choice(2, np.shape(matrix), p=[keep_prop, 1 - keep_prop])\n",
        "    dropout_mask &= matrix != pad_ix\n",
        "    return np.choose(dropout_mask, [matrix, np.full_like(matrix, replace_with)])"
      ],
      "execution_count": 45,
      "outputs": []
    },
    {
      "cell_type": "code",
      "metadata": {
        "id": "w3QvHbHZ4GJz",
        "outputId": "c18743fc-5e12-48a6-f498-6e907a57bcc6",
        "colab": {
          "base_uri": "https://localhost:8080/"
        }
      },
      "source": [
        "make_batch(data_train[:3], max_len=10)"
      ],
      "execution_count": 46,
      "outputs": [
        {
          "output_type": "execute_result",
          "data": {
            "text/plain": [
              "{'Categorical': array([[0., 0., 0., ..., 0., 0., 0.],\n",
              "        [0., 0., 0., ..., 0., 0., 0.],\n",
              "        [0., 0., 0., ..., 0., 0., 0.]], dtype=float32),\n",
              " 'FullDescription': array([[27645, 29893, 33674, 32939,   982, 27645, 29893, 33674, 16451,\n",
              "         32939],\n",
              "        [29239,   197, 19175, 20042, 15554, 23162,  4051, 25511,   907,\n",
              "            82],\n",
              "        [30746, 21956, 20601,  6409, 16451,  8165, 27493,   982, 30412,\n",
              "         17746]], dtype=int32),\n",
              " 'Log1pSalary': array([ 9.71154 , 10.463132, 10.71444 ], dtype=float32),\n",
              " 'Title': array([[27645, 29893, 33674,     1,     1,     1,     1],\n",
              "        [29239,   197, 19175, 20042, 15554, 23162,  4051],\n",
              "        [10609, 30412, 17746,    33,  8705, 29157,    65]], dtype=int32)}"
            ]
          },
          "metadata": {
            "tags": []
          },
          "execution_count": 46
        }
      ]
    },
    {
      "cell_type": "markdown",
      "metadata": {
        "id": "-hsp2-z45yqx"
      },
      "source": [
        "Since the data attributes are either text or categoriacal, we can separately apply three architectures. The first two deal with text data presented in Title and FullDescription attributes. The third architecture is applied to the categorical data. Then, the vectors from three archtectures are concatenated and fed to a dense layer followed by another dense layer with one neuron (regression task)."
      ]
    },
    {
      "cell_type": "markdown",
      "metadata": {
        "id": "bx85mP7R4GKC"
      },
      "source": [
        "#### Architecture\n",
        "\n",
        "Our basic model consists of three branches:\n",
        "* Title encoder\n",
        "* Description encoder\n",
        "* Categorical features encoder\n",
        "\n",
        "We will then feed all 3 branches into one common network that predicts salary.\n",
        "\n",
        "<img src=\"https://github.com/yandexdataschool/nlp_course/raw/master/resources/w2_conv_arch.png\" width=600px>"
      ]
    },
    {
      "cell_type": "markdown",
      "metadata": {
        "id": "yfxZV_im8jKU"
      },
      "source": [
        "The first architecture applies 1-d convolutional layer to text data and pools the output using global average pooling. Categorial data is handled by a simple dense network."
      ]
    },
    {
      "cell_type": "code",
      "metadata": {
        "id": "yjJf29jq8ZvL"
      },
      "source": [
        "import tensorflow.keras as keras"
      ],
      "execution_count": 47,
      "outputs": []
    },
    {
      "cell_type": "code",
      "metadata": {
        "id": "JGVODXjjIdm3"
      },
      "source": [
        "def build_model(n_tokens=len(tokens), n_cat_features=len(categorical_vectorizer.vocabulary_), hid_size=200):\n",
        "  title_input = keras.layers.Input(shape=[None], name='Title')\n",
        "  descr_input = keras.layers.Input(shape=[None], name='FullDescription')\n",
        "  categ_input = keras.layers.Input(shape=[n_cat_features], name='Categorical') #(b_s, n_cat_features)\n",
        "\n",
        "  embedding = keras.layers.Embedding(input_dim=n_tokens, output_dim=hid_size)\n",
        "\n",
        "  title_embed = embedding(title_input) #(b_s, seq_len, 300)\n",
        "  descr_embed = embedding(descr_input) #(b_s, seq_len, 300)\n",
        "\n",
        "  title_conv = keras.layers.Conv1D(filters=32, kernel_size=5, padding='same', activation='relu')(title_embed) #(b_s, new_seq_len, filters)\n",
        "  descr_conv = keras.layers.Conv1D(filters=32, kernel_size=5, padding='same', activation='relu')(descr_embed) #(b_s, new_seq_len, filters)\n",
        "\n",
        "  title_pool = keras.layers.GlobalAveragePooling1D()(title_conv) #(b_s, filters)\n",
        "  descr_poool = keras.layers.GlobalAveragePooling1D()(descr_conv) #(b_s, filters)\n",
        "\n",
        "  title_dense = keras.layers.Dense(units=10, activation='relu')(title_pool) #(b_s, 10)\n",
        "  descr_dense = keras.layers.Dense(units=10, activation='relu')(descr_poool) #(b_s, 10)\n",
        "\n",
        "  categ_dense = keras.layers.Dense(units=1800, activation='relu')(categ_input) #(b_s, 1800)\n",
        "  categ_dense = keras.layers.Dense(units=1800, activation='relu')(categ_dense) #(b_s, 1800)\n",
        "  categ_dense = keras.layers.Dense(units=10, activation='relu')(categ_dense) #(b_s, 10)\n",
        "\n",
        "  concat = keras.layers.Concatenate()([title_dense, descr_dense, categ_dense]) #(b_s, 30)\n",
        "\n",
        "  concat_dense = keras.layers.Dense(units=10, activation='relu')(concat) #(b_s, 10)\n",
        "\n",
        "  final_dense = keras.layers.Dense(units=1)(concat_dense) #(b_s, 1)\n",
        "\n",
        "  model = keras.Model(inputs=[title_input, descr_input, categ_input], outputs=[final_dense])\n",
        "  model.compile(optimizer='adam', loss='mse', metrics=['mae'])\n",
        "  return model\n",
        "\n"
      ],
      "execution_count": null,
      "outputs": []
    },
    {
      "cell_type": "code",
      "metadata": {
        "id": "KieoTltn4GLA",
        "outputId": "ca14353a-ccfa-4470-cfe6-4b271094176f",
        "colab": {
          "base_uri": "https://localhost:8080/",
          "height": 819
        }
      },
      "source": [
        "model1 = build_model()\n",
        "model1.summary()\n",
        "\n",
        "dummy_pred = model1.predict(make_batch(data_train[:100]))\n",
        "dummy_loss = model1.train_on_batch(make_batch(data_train[:100]), data_train['Log1pSalary'][:100])[0]"
      ],
      "execution_count": null,
      "outputs": [
        {
          "output_type": "stream",
          "text": [
            "Model: \"functional_7\"\n",
            "__________________________________________________________________________________________________\n",
            "Layer (type)                    Output Shape         Param #     Connected to                     \n",
            "==================================================================================================\n",
            "Title (InputLayer)              [(None, None)]       0                                            \n",
            "__________________________________________________________________________________________________\n",
            "FullDescription (InputLayer)    [(None, None)]       0                                            \n",
            "__________________________________________________________________________________________________\n",
            "embedding_3 (Embedding)         (None, None, 200)    6831600     Title[0][0]                      \n",
            "                                                                 FullDescription[0][0]            \n",
            "__________________________________________________________________________________________________\n",
            "Categorical (InputLayer)        [(None, 3768)]       0                                            \n",
            "__________________________________________________________________________________________________\n",
            "conv1d_6 (Conv1D)               (None, None, 32)     32032       embedding_3[0][0]                \n",
            "__________________________________________________________________________________________________\n",
            "conv1d_7 (Conv1D)               (None, None, 32)     32032       embedding_3[1][0]                \n",
            "__________________________________________________________________________________________________\n",
            "dense_23 (Dense)                (None, 1800)         6784200     Categorical[0][0]                \n",
            "__________________________________________________________________________________________________\n",
            "global_average_pooling1d_6 (Glo (None, 32)           0           conv1d_6[0][0]                   \n",
            "__________________________________________________________________________________________________\n",
            "global_average_pooling1d_7 (Glo (None, 32)           0           conv1d_7[0][0]                   \n",
            "__________________________________________________________________________________________________\n",
            "dense_24 (Dense)                (None, 1800)         3241800     dense_23[0][0]                   \n",
            "__________________________________________________________________________________________________\n",
            "dense_21 (Dense)                (None, 10)           330         global_average_pooling1d_6[0][0] \n",
            "__________________________________________________________________________________________________\n",
            "dense_22 (Dense)                (None, 10)           330         global_average_pooling1d_7[0][0] \n",
            "__________________________________________________________________________________________________\n",
            "dense_25 (Dense)                (None, 10)           18010       dense_24[0][0]                   \n",
            "__________________________________________________________________________________________________\n",
            "concatenate_3 (Concatenate)     (None, 30)           0           dense_21[0][0]                   \n",
            "                                                                 dense_22[0][0]                   \n",
            "                                                                 dense_25[0][0]                   \n",
            "__________________________________________________________________________________________________\n",
            "dense_26 (Dense)                (None, 10)           310         concatenate_3[0][0]              \n",
            "__________________________________________________________________________________________________\n",
            "dense_27 (Dense)                (None, 1)            11          dense_26[0][0]                   \n",
            "==================================================================================================\n",
            "Total params: 16,940,655\n",
            "Trainable params: 16,940,655\n",
            "Non-trainable params: 0\n",
            "__________________________________________________________________________________________________\n"
          ],
          "name": "stdout"
        },
        {
          "output_type": "stream",
          "text": [
            "/usr/local/lib/python3.6/dist-packages/tensorflow/python/keras/engine/functional.py:543: UserWarning: Input dict contained keys ['Log1pSalary'] which did not match any model input. They will be ignored by the model.\n",
            "  [n for n in tensors.keys() if n not in ref_input_names])\n"
          ],
          "name": "stderr"
        },
        {
          "output_type": "stream",
          "text": [
            "Everythong is set\n"
          ],
          "name": "stdout"
        }
      ]
    },
    {
      "cell_type": "markdown",
      "metadata": {
        "id": "ThBjmyTn9rCc"
      },
      "source": [
        "Function that iterates through minibatches"
      ]
    },
    {
      "cell_type": "code",
      "metadata": {
        "id": "IXTNuHLP4GLG"
      },
      "source": [
        "def iterate_minibatches(data, batch_size=256, shuffle=True, cycle=False, **kwargs):\n",
        "    \"\"\" iterates minibatches of data in random order \"\"\"\n",
        "    while True:\n",
        "        indices = np.arange(len(data))\n",
        "        if shuffle:\n",
        "            indices = np.random.permutation(indices)\n",
        "\n",
        "        for start in range(0, len(indices), batch_size):\n",
        "            batch = make_batch(data.iloc[indices[start : start + batch_size]], **kwargs)\n",
        "            target = batch.pop(target_column)\n",
        "            yield batch, target\n",
        "        \n",
        "        if not cycle: break"
      ],
      "execution_count": 49,
      "outputs": []
    },
    {
      "cell_type": "markdown",
      "metadata": {
        "id": "o5luQkkW9yOQ"
      },
      "source": [
        "Training"
      ]
    },
    {
      "cell_type": "code",
      "metadata": {
        "id": "chXdywmQsKrN"
      },
      "source": [
        "batch_size = 256\n",
        "epochs = 100          \n",
        "steps_per_epoch = 100 "
      ],
      "execution_count": 48,
      "outputs": []
    },
    {
      "cell_type": "code",
      "metadata": {
        "id": "AdM0DFzg4GLL",
        "outputId": "dfd46cf3-6310-4668-a91a-9f146a36f0cd",
        "colab": {
          "base_uri": "https://localhost:8080/",
          "height": 1000
        }
      },
      "source": [
        "model1 = build_model()\n",
        "\n",
        "early_stopping_cb = keras.callbacks.EarlyStopping(patience=5, restore_best_weights=True)\n",
        "\n",
        "history1 = model.fit_generator(iterate_minibatches(data_train, batch_size, cycle=True, word_dropout=0.05), \n",
        "                    epochs=epochs, steps_per_epoch=steps_per_epoch, callbacks = [early_stopping_cb],\n",
        "                    \n",
        "                    validation_data=iterate_minibatches(data_val, batch_size, cycle=True),\n",
        "                    validation_steps=data_val.shape[0] // batch_size\n",
        "                   )"
      ],
      "execution_count": null,
      "outputs": [
        {
          "output_type": "stream",
          "text": [
            "WARNING:tensorflow:From <ipython-input-28-3f5ce8350597>:13: Model.fit_generator (from tensorflow.python.keras.engine.training) is deprecated and will be removed in a future version.\n",
            "Instructions for updating:\n",
            "Please use Model.fit, which supports generators.\n",
            "Epoch 1/100\n",
            "100/100 [==============================] - 43s 429ms/step - loss: 5.0779 - mae: 1.2575 - val_loss: 0.2320 - val_mae: 0.3723\n",
            "Epoch 2/100\n",
            "100/100 [==============================] - 40s 401ms/step - loss: 0.2077 - mae: 0.3500 - val_loss: 0.1933 - val_mae: 0.3377\n",
            "Epoch 3/100\n",
            "100/100 [==============================] - 39s 385ms/step - loss: 0.1713 - mae: 0.3095 - val_loss: 0.1509 - val_mae: 0.2885\n",
            "Epoch 4/100\n",
            "100/100 [==============================] - 39s 391ms/step - loss: 0.1459 - mae: 0.2839 - val_loss: 0.1336 - val_mae: 0.2707\n",
            "Epoch 5/100\n",
            "100/100 [==============================] - 39s 391ms/step - loss: 0.1297 - mae: 0.2667 - val_loss: 0.1227 - val_mae: 0.2591\n",
            "Epoch 6/100\n",
            "100/100 [==============================] - 38s 381ms/step - loss: 0.1197 - mae: 0.2560 - val_loss: 0.1104 - val_mae: 0.2450\n",
            "Epoch 7/100\n",
            "100/100 [==============================] - 37s 368ms/step - loss: 0.1061 - mae: 0.2417 - val_loss: 0.1052 - val_mae: 0.2404\n",
            "Epoch 8/100\n",
            "100/100 [==============================] - 37s 374ms/step - loss: 0.0989 - mae: 0.2322 - val_loss: 0.0981 - val_mae: 0.2325\n",
            "Epoch 9/100\n",
            "100/100 [==============================] - 36s 360ms/step - loss: 0.0899 - mae: 0.2193 - val_loss: 0.0866 - val_mae: 0.2197\n",
            "Epoch 10/100\n",
            "100/100 [==============================] - 36s 359ms/step - loss: 0.0825 - mae: 0.2120 - val_loss: 0.0839 - val_mae: 0.2157\n",
            "Epoch 11/100\n",
            "100/100 [==============================] - 36s 364ms/step - loss: 0.0808 - mae: 0.2097 - val_loss: 0.0788 - val_mae: 0.2098\n",
            "Epoch 12/100\n",
            "100/100 [==============================] - 36s 362ms/step - loss: 0.0772 - mae: 0.2063 - val_loss: 0.0759 - val_mae: 0.2056\n",
            "Epoch 13/100\n",
            "100/100 [==============================] - 36s 364ms/step - loss: 0.0758 - mae: 0.2038 - val_loss: 0.0750 - val_mae: 0.2044\n",
            "Epoch 14/100\n",
            "100/100 [==============================] - 36s 363ms/step - loss: 0.0732 - mae: 0.2012 - val_loss: 0.0774 - val_mae: 0.2089\n",
            "Epoch 15/100\n",
            "100/100 [==============================] - 36s 358ms/step - loss: 0.0729 - mae: 0.2009 - val_loss: 0.0718 - val_mae: 0.2013\n",
            "Epoch 16/100\n",
            "100/100 [==============================] - 36s 357ms/step - loss: 0.0645 - mae: 0.1897 - val_loss: 0.0695 - val_mae: 0.1971\n",
            "Epoch 17/100\n",
            "100/100 [==============================] - 36s 360ms/step - loss: 0.0593 - mae: 0.1818 - val_loss: 0.0680 - val_mae: 0.1936\n",
            "Epoch 18/100\n",
            "100/100 [==============================] - 36s 355ms/step - loss: 0.0587 - mae: 0.1805 - val_loss: 0.0676 - val_mae: 0.1931\n",
            "Epoch 19/100\n",
            "100/100 [==============================] - 36s 358ms/step - loss: 0.0595 - mae: 0.1813 - val_loss: 0.0703 - val_mae: 0.1974\n",
            "Epoch 20/100\n",
            "100/100 [==============================] - 35s 354ms/step - loss: 0.0604 - mae: 0.1839 - val_loss: 0.0699 - val_mae: 0.1973\n",
            "Epoch 21/100\n",
            "100/100 [==============================] - 37s 367ms/step - loss: 0.0624 - mae: 0.1867 - val_loss: 0.0671 - val_mae: 0.1934\n",
            "Epoch 22/100\n",
            "100/100 [==============================] - 36s 361ms/step - loss: 0.0613 - mae: 0.1845 - val_loss: 0.0891 - val_mae: 0.2337\n",
            "Epoch 23/100\n",
            "100/100 [==============================] - 36s 358ms/step - loss: 0.0613 - mae: 0.1838 - val_loss: 0.0639 - val_mae: 0.1875\n",
            "Epoch 24/100\n",
            "100/100 [==============================] - 36s 357ms/step - loss: 0.0513 - mae: 0.1688 - val_loss: 0.0674 - val_mae: 0.1931\n",
            "Epoch 25/100\n",
            "100/100 [==============================] - 36s 361ms/step - loss: 0.0513 - mae: 0.1682 - val_loss: 0.0665 - val_mae: 0.1918\n",
            "Epoch 26/100\n",
            "100/100 [==============================] - 36s 361ms/step - loss: 0.0527 - mae: 0.1699 - val_loss: 0.0638 - val_mae: 0.1871\n",
            "Epoch 27/100\n",
            "100/100 [==============================] - 36s 358ms/step - loss: 0.0531 - mae: 0.1713 - val_loss: 0.0648 - val_mae: 0.1884\n",
            "Epoch 28/100\n",
            "100/100 [==============================] - 36s 357ms/step - loss: 0.0544 - mae: 0.1719 - val_loss: 0.0644 - val_mae: 0.1881\n",
            "Epoch 29/100\n",
            "100/100 [==============================] - 35s 354ms/step - loss: 0.0550 - mae: 0.1742 - val_loss: 0.0623 - val_mae: 0.1850\n",
            "Epoch 30/100\n",
            "100/100 [==============================] - 36s 359ms/step - loss: 0.0577 - mae: 0.1794 - val_loss: 0.0627 - val_mae: 0.1848\n",
            "Epoch 31/100\n",
            "100/100 [==============================] - 36s 361ms/step - loss: 0.0520 - mae: 0.1700 - val_loss: 0.0612 - val_mae: 0.1824\n",
            "Epoch 32/100\n",
            "100/100 [==============================] - 36s 357ms/step - loss: 0.0460 - mae: 0.1595 - val_loss: 0.0628 - val_mae: 0.1855\n",
            "Epoch 33/100\n",
            "100/100 [==============================] - 35s 354ms/step - loss: 0.0458 - mae: 0.1587 - val_loss: 0.0614 - val_mae: 0.1829\n",
            "Epoch 34/100\n",
            "100/100 [==============================] - 36s 357ms/step - loss: 0.0480 - mae: 0.1618 - val_loss: 0.0640 - val_mae: 0.1875\n",
            "Epoch 35/100\n",
            "100/100 [==============================] - 36s 358ms/step - loss: 0.0492 - mae: 0.1644 - val_loss: 0.0618 - val_mae: 0.1833\n",
            "Epoch 36/100\n",
            "100/100 [==============================] - 36s 361ms/step - loss: 0.0529 - mae: 0.1702 - val_loss: 0.0625 - val_mae: 0.1846\n"
          ],
          "name": "stdout"
        }
      ]
    },
    {
      "cell_type": "markdown",
      "metadata": {
        "id": "RIJu1pr6-tKg"
      },
      "source": [
        "Training loss - 0.0529, Validation loss - 0.0625. Model overfits, but not substantially"
      ]
    },
    {
      "cell_type": "code",
      "metadata": {
        "id": "cWoOGPkXSWqu",
        "outputId": "658a027c-09fd-4261-e4ed-3770bb65fe70",
        "colab": {
          "base_uri": "https://localhost:8080/",
          "height": 596
        }
      },
      "source": [
        "import pandas as pd\n",
        "import matplotlib.pyplot as plt\n",
        "\n",
        "pd.DataFrame(history1.history).plot(figsize=(15, 10))\n",
        "plt.grid(True)\n",
        "plt.gca().set_ylim(0, 1)\n",
        "plt.show()"
      ],
      "execution_count": null,
      "outputs": [
        {
          "output_type": "display_data",
          "data": {},
          "metadata": {
            "tags": [],
            "needs_background": "light"
          }
        }
      ]
    },
    {
      "cell_type": "code",
      "metadata": {
        "id": "bNFQTK1j4GLO"
      },
      "source": [
        "def print_metrics(model, data, batch_size=batch_size, name=\"\", **kw):\n",
        "    squared_error = abs_error = num_samples = 0.0\n",
        "    for batch_x, batch_y in iterate_minibatches(data, batch_size=batch_size, shuffle=False, **kw):\n",
        "        batch_pred = model.predict(batch_x)[:, 0]\n",
        "        squared_error += np.sum(np.square(batch_pred - batch_y))\n",
        "        abs_error += np.sum(np.abs(batch_pred - batch_y))\n",
        "        num_samples += len(batch_y)\n",
        "    print(\"%s results:\" % (name or \"\"))\n",
        "    print(\"Mean square error: %.5f\" % (squared_error / num_samples))\n",
        "    print(\"Mean absolute error: %.5f\" % (abs_error / num_samples))\n",
        "    return squared_error, abs_error"
      ],
      "execution_count": 50,
      "outputs": []
    },
    {
      "cell_type": "markdown",
      "metadata": {
        "id": "TiUH6H7c_OUa"
      },
      "source": [
        "Let's try to fight overfitting by applying techniques such as Batch Norm and Dropout"
      ]
    },
    {
      "cell_type": "code",
      "metadata": {
        "id": "AZxuvSH7ftbg"
      },
      "source": [
        "import tensorflow.keras as keras\n",
        "import tensorflow.keras.layers as L"
      ],
      "execution_count": 51,
      "outputs": []
    },
    {
      "cell_type": "code",
      "metadata": {
        "id": "XyMFrXixZtRa"
      },
      "source": [
        "def build_model(n_tokens=len(tokens), n_cat_features=len(categorical_vectorizer.vocabulary_), hid_size=200):\n",
        "  title_input = L.Input(shape=[None], name='Title')\n",
        "  descr_input = L.Input(shape=[None], name='FullDescription')\n",
        "  categ_input = L.Input(shape=[n_cat_features], name='Categorical') #(b_s, n_cat_features)\n",
        "\n",
        "  embedding = L.Embedding(input_dim=n_tokens, output_dim=hid_size)\n",
        "\n",
        "  #title part\n",
        "  title = embedding(title_input) #(b_s, seq_len, hid_size)\n",
        "  title = L.Conv1D(filters=32, kernel_size=5, padding='same', activation='relu')(title) #(b_s, new_seq_len, filters)\n",
        "  title = L.BatchNormalization()(title)\n",
        "  title = L.GlobalAveragePooling1D()(title) #(b_s, filters)\n",
        "  title = L.Dense(units=10, activation='relu')(title) #(b_s, 10)\n",
        "  title_output = L.BatchNormalization()(title) #(b_s, 10)\n",
        "\n",
        "  #description part\n",
        "  descr = embedding(descr_input) #(b_s, seq_len, hid_size)\n",
        "  descr = L.Conv1D(filters=32, kernel_size=5, padding='same', activation='relu')(descr) #(b_s, new_seq_len, filters)\n",
        "  descr = L.BatchNormalization()(descr) #(b_s, new_seq_len, filters)\n",
        "  descr = L.GlobalAveragePooling1D()(descr) #(b_s, filters)\n",
        "  descr = L.Dense(units=10, activation='relu')(descr) #(b_s, 10)\n",
        "  descr_output = L.BatchNormalization()(descr) #(b_s, 10)\n",
        "\n",
        "  #categorical part\n",
        "  categ = L.Dense(units=1800, activation='relu')(categ_input) #(b_s, 1800)\n",
        "  categ = L.BatchNormalization()(categ)\n",
        "\n",
        "  categ = L.Dense(units=1800, activation='relu')(categ) #(b_s, 1800)\n",
        "  categ = L.BatchNormalization()(categ)\n",
        "\n",
        "  categ = L.Dense(units=10, activation='relu')(categ) #(b_s, 10)\n",
        "  categ_output = L.BatchNormalization()(categ)\n",
        "\n",
        "  #concatenation\n",
        "  concat = L.Concatenate()([title_output, descr_output, categ_output]) #(b_s, 30)\n",
        "\n",
        "  concat = L.Dense(units=10, activation='relu')(concat) #(b_s, 10)\n",
        "  concat = L.BatchNormalization()(concat)\n",
        "  concat = L.Dropout(rate=0.2)(concat)\n",
        "\n",
        "  final_dense = L.Dense(units=1)(concat) #(b_s, 1)\n",
        "\n",
        "  #model\n",
        "  model = keras.Model(inputs=[title_input, descr_input, categ_input], outputs=[final_dense])\n",
        "  model.compile(optimizer='adam', loss='mse', metrics=['mae'])\n",
        "  return model"
      ],
      "execution_count": 25,
      "outputs": []
    },
    {
      "cell_type": "code",
      "metadata": {
        "id": "tSLl56uEfNHw",
        "outputId": "e97f76c4-856e-44ec-c1d5-fc62919b20d2",
        "colab": {
          "base_uri": "https://localhost:8080/",
          "height": 1000
        }
      },
      "source": [
        "model2 = build_model()\n",
        "model2.summary()\n",
        "\n",
        "dummy_pred = model2.predict(make_batch(data_train[:100]))\n",
        "dummy_loss = model2.train_on_batch(make_batch(data_train[:100]), data_train['Log1pSalary'][:100])[0]"
      ],
      "execution_count": null,
      "outputs": [
        {
          "output_type": "stream",
          "text": [
            "Model: \"functional_1\"\n",
            "__________________________________________________________________________________________________\n",
            "Layer (type)                    Output Shape         Param #     Connected to                     \n",
            "==================================================================================================\n",
            "Title (InputLayer)              [(None, None)]       0                                            \n",
            "__________________________________________________________________________________________________\n",
            "FullDescription (InputLayer)    [(None, None)]       0                                            \n",
            "__________________________________________________________________________________________________\n",
            "Categorical (InputLayer)        [(None, 3768)]       0                                            \n",
            "__________________________________________________________________________________________________\n",
            "embedding (Embedding)           (None, None, 200)    6831600     Title[0][0]                      \n",
            "                                                                 FullDescription[0][0]            \n",
            "__________________________________________________________________________________________________\n",
            "dense_2 (Dense)                 (None, 1800)         6784200     Categorical[0][0]                \n",
            "__________________________________________________________________________________________________\n",
            "conv1d (Conv1D)                 (None, None, 32)     32032       embedding[0][0]                  \n",
            "__________________________________________________________________________________________________\n",
            "conv1d_1 (Conv1D)               (None, None, 32)     32032       embedding[1][0]                  \n",
            "__________________________________________________________________________________________________\n",
            "batch_normalization_4 (BatchNor (None, 1800)         7200        dense_2[0][0]                    \n",
            "__________________________________________________________________________________________________\n",
            "batch_normalization (BatchNorma (None, None, 32)     128         conv1d[0][0]                     \n",
            "__________________________________________________________________________________________________\n",
            "batch_normalization_2 (BatchNor (None, None, 32)     128         conv1d_1[0][0]                   \n",
            "__________________________________________________________________________________________________\n",
            "dense_3 (Dense)                 (None, 1800)         3241800     batch_normalization_4[0][0]      \n",
            "__________________________________________________________________________________________________\n",
            "global_average_pooling1d (Globa (None, 32)           0           batch_normalization[0][0]        \n",
            "__________________________________________________________________________________________________\n",
            "global_average_pooling1d_1 (Glo (None, 32)           0           batch_normalization_2[0][0]      \n",
            "__________________________________________________________________________________________________\n",
            "batch_normalization_5 (BatchNor (None, 1800)         7200        dense_3[0][0]                    \n",
            "__________________________________________________________________________________________________\n",
            "dense (Dense)                   (None, 10)           330         global_average_pooling1d[0][0]   \n",
            "__________________________________________________________________________________________________\n",
            "dense_1 (Dense)                 (None, 10)           330         global_average_pooling1d_1[0][0] \n",
            "__________________________________________________________________________________________________\n",
            "dense_4 (Dense)                 (None, 10)           18010       batch_normalization_5[0][0]      \n",
            "__________________________________________________________________________________________________\n",
            "batch_normalization_1 (BatchNor (None, 10)           40          dense[0][0]                      \n",
            "__________________________________________________________________________________________________\n",
            "batch_normalization_3 (BatchNor (None, 10)           40          dense_1[0][0]                    \n",
            "__________________________________________________________________________________________________\n",
            "batch_normalization_6 (BatchNor (None, 10)           40          dense_4[0][0]                    \n",
            "__________________________________________________________________________________________________\n",
            "concatenate (Concatenate)       (None, 30)           0           batch_normalization_1[0][0]      \n",
            "                                                                 batch_normalization_3[0][0]      \n",
            "                                                                 batch_normalization_6[0][0]      \n",
            "__________________________________________________________________________________________________\n",
            "dense_5 (Dense)                 (None, 10)           310         concatenate[0][0]                \n",
            "__________________________________________________________________________________________________\n",
            "batch_normalization_7 (BatchNor (None, 10)           40          dense_5[0][0]                    \n",
            "__________________________________________________________________________________________________\n",
            "dropout (Dropout)               (None, 10)           0           batch_normalization_7[0][0]      \n",
            "__________________________________________________________________________________________________\n",
            "dense_6 (Dense)                 (None, 1)            11          dropout[0][0]                    \n",
            "==================================================================================================\n",
            "Total params: 16,955,471\n",
            "Trainable params: 16,948,063\n",
            "Non-trainable params: 7,408\n",
            "__________________________________________________________________________________________________\n"
          ],
          "name": "stdout"
        },
        {
          "output_type": "stream",
          "text": [
            "/usr/local/lib/python3.6/dist-packages/tensorflow/python/keras/engine/functional.py:543: UserWarning: Input dict contained keys ['Log1pSalary'] which did not match any model input. They will be ignored by the model.\n",
            "  [n for n in tensors.keys() if n not in ref_input_names])\n"
          ],
          "name": "stderr"
        },
        {
          "output_type": "stream",
          "text": [
            "Everythong is set\n"
          ],
          "name": "stdout"
        }
      ]
    },
    {
      "cell_type": "code",
      "metadata": {
        "id": "I-DWFZV5fOZz",
        "outputId": "bce8efe6-419a-4c28-b8e4-89ea173b9b9b",
        "colab": {
          "base_uri": "https://localhost:8080/",
          "height": 595
        }
      },
      "source": [
        "model2 = build_model()\n",
        "\n",
        "history2 = model.fit_generator(iterate_minibatches(data_train, batch_size, cycle=True, word_dropout=0.05), \n",
        "                    epochs=epochs, steps_per_epoch=steps_per_epoch, callbacks = [early_stopping_cb],\n",
        "                    \n",
        "                    validation_data=iterate_minibatches(data_val, batch_size, cycle=True),\n",
        "                    validation_steps=data_val.shape[0] // batch_size\n",
        "                   )"
      ],
      "execution_count": null,
      "outputs": [
        {
          "output_type": "stream",
          "text": [
            "Epoch 1/100\n",
            "100/100 [==============================] - 37s 368ms/step - loss: 101.8885 - mae: 10.0244 - val_loss: 95.4490 - val_mae: 9.7574\n",
            "Epoch 2/100\n",
            "100/100 [==============================] - 37s 374ms/step - loss: 86.9850 - mae: 9.2497 - val_loss: 80.3026 - val_mae: 8.9465\n",
            "Epoch 3/100\n",
            "100/100 [==============================] - 36s 359ms/step - loss: 67.1151 - mae: 8.0827 - val_loss: 54.9243 - val_mae: 7.3929\n",
            "Epoch 4/100\n",
            "100/100 [==============================] - 36s 363ms/step - loss: 45.9600 - mae: 6.6215 - val_loss: 29.3549 - val_mae: 5.3784\n",
            "Epoch 5/100\n",
            "100/100 [==============================] - 36s 364ms/step - loss: 27.6489 - mae: 5.0155 - val_loss: 15.1290 - val_mae: 3.8327\n",
            "Epoch 6/100\n",
            "100/100 [==============================] - 37s 372ms/step - loss: 14.9334 - mae: 3.5014 - val_loss: 9.5812 - val_mae: 3.0603\n",
            "Epoch 7/100\n",
            "100/100 [==============================] - 36s 362ms/step - loss: 7.6513 - mae: 2.2673 - val_loss: 2.0010 - val_mae: 1.3134\n",
            "Epoch 8/100\n",
            "100/100 [==============================] - 37s 370ms/step - loss: 4.6812 - mae: 1.6655 - val_loss: 1.3107 - val_mae: 1.0632\n",
            "Epoch 9/100\n",
            "100/100 [==============================] - 37s 368ms/step - loss: 3.4101 - mae: 1.4262 - val_loss: 0.4573 - val_mae: 0.5798\n",
            "Epoch 10/100\n",
            "100/100 [==============================] - 37s 365ms/step - loss: 2.9731 - mae: 1.3482 - val_loss: 0.6410 - val_mae: 0.7067\n",
            "Epoch 11/100\n",
            "100/100 [==============================] - 37s 365ms/step - loss: 2.7865 - mae: 1.3208 - val_loss: 0.1727 - val_mae: 0.3255\n",
            "Epoch 12/100\n",
            "100/100 [==============================] - 36s 363ms/step - loss: 2.6464 - mae: 1.2893 - val_loss: 0.1681 - val_mae: 0.3196\n",
            "Epoch 13/100\n",
            "100/100 [==============================] - 36s 362ms/step - loss: 2.5373 - mae: 1.2647 - val_loss: 0.2199 - val_mae: 0.3822\n",
            "Epoch 14/100\n",
            "100/100 [==============================] - 36s 364ms/step - loss: 2.5541 - mae: 1.2677 - val_loss: 0.2667 - val_mae: 0.4282\n",
            "Epoch 15/100\n",
            "100/100 [==============================] - 38s 375ms/step - loss: 2.5275 - mae: 1.2607 - val_loss: 0.4244 - val_mae: 0.5691\n",
            "Epoch 16/100\n",
            "100/100 [==============================] - 36s 360ms/step - loss: 2.4814 - mae: 1.2477 - val_loss: 0.6129 - val_mae: 0.6942\n",
            "Epoch 17/100\n",
            "100/100 [==============================] - 36s 363ms/step - loss: 2.4590 - mae: 1.2488 - val_loss: 0.1804 - val_mae: 0.3367\n"
          ],
          "name": "stdout"
        }
      ]
    },
    {
      "cell_type": "markdown",
      "metadata": {
        "id": "KUGdqo-qAs4x"
      },
      "source": [
        "Regularization did't improve the model"
      ]
    },
    {
      "cell_type": "markdown",
      "metadata": {
        "id": "gaioAyNmBKDu"
      },
      "source": [
        "Now let's try to apply reccurent nn with two layers to text data. In the second layer, only the output at the last time step is returned."
      ]
    },
    {
      "cell_type": "code",
      "metadata": {
        "id": "VtI8Ei-_F_LI"
      },
      "source": [
        "import tensorflow.keras as keras\n",
        "import tensorflow.keras.layers as L"
      ],
      "execution_count": 26,
      "outputs": []
    },
    {
      "cell_type": "code",
      "metadata": {
        "id": "4TEi1iihEOFQ"
      },
      "source": [
        "def build_model(n_tokens=len(tokens), n_cat_features=len(categorical_vectorizer.vocabulary_), hid_size=200):\n",
        "  title_input = L.Input(shape=[None], name='Title')\n",
        "  descr_input = L.Input(shape=[None], name='FullDescription')\n",
        "  categ_input = L.Input(shape=[n_cat_features], name='Categorical') #(b_s, n_cat_features)\n",
        "\n",
        "  embedding = L.Embedding(input_dim=n_tokens, output_dim=hid_size)\n",
        "\n",
        "  #title part\n",
        "  title_embed = embedding(title_input) #(b_s, seq_len, 200)\n",
        "  title_forw = L.GRU(units=120, return_sequences=True)(title_embed) #(b_s, seq_len, units)\n",
        "  title_back = L.GRU(units=120, go_backwards=True, return_sequences=True)(title_embed) #(b_s, seq_len, units)\n",
        "  title_concat1 = L.Concatenate(axis=2)([title_forw, title_back]) #(b_s, seq_len, 2*units)\n",
        "\n",
        "  title_forw = L.GRU(units=120, return_sequences=False)(title_concat1) #(b_s, units)\n",
        "  title_back = L.GRU(units=120, go_backwards=True, return_sequences=False)(title_concat1) #(b_s, units)\n",
        "  title_concat2 = L.Concatenate(axis=1)([title_forw, title_back]) #(b_s, 2*units)\n",
        "\n",
        "  title = L.Dense(120, activation='relu')(title_concat2) #(b_s, 120)\n",
        "  title_output = L.Dense(10, activation='relu')(title) #(b_s, 10)\n",
        "\n",
        "  #description part\n",
        "  descr_embed = embedding(descr_input) #(b_s, seq_len, 200)\n",
        "  descr_forw = L.GRU(units=120, return_sequences=True)(descr_embed) #(b_s, seq_len, units)\n",
        "  descr_back = L.GRU(units=120, go_backwards=True, return_sequences=True)(descr_embed) #(b_s, seq_len, units)\n",
        "  descr_concat1 = L.Concatenate(axis=2)([descr_forw, descr_back]) #(b_s, seq_len, 2*units)\n",
        "\n",
        "  descr_forw = L.GRU(units=120, return_sequences=False)(descr_concat1) #(b_s, units)\n",
        "  descr_back = L.GRU(units=120, go_backwards=True, return_sequences=False)(descr_concat1) #(b_s, units)\n",
        "  descr_concat2 = L.Concatenate(axis=1)([descr_forw, descr_back]) #(b_s, 2*units)\n",
        "\n",
        "  descr = L.Dense(120, activation='relu')(descr_concat2) #(b_s, 120)\n",
        "  descr_output = L.Dense(10, activation='relu')(descr) #(b_s, 10)\n",
        "\n",
        "  #categorical part\n",
        "  categ = L.Dense(units=1800, activation='relu')(categ_input) #(b_s, 1800)\n",
        "  categ = L.Dense(units=1800, activation='relu')(categ) #(b_s, 1800)\n",
        "  categ_output = L.Dense(units=10, activation='relu')(categ) #(b_s, 10)\n",
        "\n",
        "  #concatenation\n",
        "  concat = L.Concatenate()([title_output, descr_output, categ_output]) #(b_s, 30)\n",
        "  concat = L.Dense(units=15, activation='relu')(concat) #(b_s, 15)\n",
        "  final_dense = L.Dense(units=1)(concat) #(b_s, 1)\n",
        "\n",
        "  #model\n",
        "  model = keras.Model(inputs=[title_input, descr_input, categ_input], outputs=[final_dense])\n",
        "  model.compile(optimizer='adam', loss='mse', metrics=['mae'])\n",
        "  return model"
      ],
      "execution_count": 27,
      "outputs": []
    },
    {
      "cell_type": "code",
      "metadata": {
        "id": "Z493TBzLbeQk",
        "outputId": "01a140e2-e67f-434b-f288-1ab3d36bc7e7",
        "colab": {
          "base_uri": "https://localhost:8080/"
        }
      },
      "source": [
        "model3 = build_model()\n",
        "model3.summary()\n",
        "\n",
        "dummy_pred = model3.predict(make_batch(data_train[:100]))\n",
        "dummy_loss = model3.train_on_batch(make_batch(data_train[:100]), data_train['Log1pSalary'][:100])[0]"
      ],
      "execution_count": 28,
      "outputs": [
        {
          "output_type": "stream",
          "text": [
            "Model: \"functional_1\"\n",
            "__________________________________________________________________________________________________\n",
            "Layer (type)                    Output Shape         Param #     Connected to                     \n",
            "==================================================================================================\n",
            "Title (InputLayer)              [(None, None)]       0                                            \n",
            "__________________________________________________________________________________________________\n",
            "FullDescription (InputLayer)    [(None, None)]       0                                            \n",
            "__________________________________________________________________________________________________\n",
            "embedding (Embedding)           (None, None, 200)    6831600     Title[0][0]                      \n",
            "                                                                 FullDescription[0][0]            \n",
            "__________________________________________________________________________________________________\n",
            "gru (GRU)                       (None, None, 120)    115920      embedding[0][0]                  \n",
            "__________________________________________________________________________________________________\n",
            "gru_1 (GRU)                     (None, None, 120)    115920      embedding[0][0]                  \n",
            "__________________________________________________________________________________________________\n",
            "gru_4 (GRU)                     (None, None, 120)    115920      embedding[1][0]                  \n",
            "__________________________________________________________________________________________________\n",
            "gru_5 (GRU)                     (None, None, 120)    115920      embedding[1][0]                  \n",
            "__________________________________________________________________________________________________\n",
            "concatenate (Concatenate)       (None, None, 240)    0           gru[0][0]                        \n",
            "                                                                 gru_1[0][0]                      \n",
            "__________________________________________________________________________________________________\n",
            "concatenate_2 (Concatenate)     (None, None, 240)    0           gru_4[0][0]                      \n",
            "                                                                 gru_5[0][0]                      \n",
            "__________________________________________________________________________________________________\n",
            "gru_2 (GRU)                     (None, 120)          130320      concatenate[0][0]                \n",
            "__________________________________________________________________________________________________\n",
            "gru_3 (GRU)                     (None, 120)          130320      concatenate[0][0]                \n",
            "__________________________________________________________________________________________________\n",
            "gru_6 (GRU)                     (None, 120)          130320      concatenate_2[0][0]              \n",
            "__________________________________________________________________________________________________\n",
            "gru_7 (GRU)                     (None, 120)          130320      concatenate_2[0][0]              \n",
            "__________________________________________________________________________________________________\n",
            "Categorical (InputLayer)        [(None, 3768)]       0                                            \n",
            "__________________________________________________________________________________________________\n",
            "concatenate_1 (Concatenate)     (None, 240)          0           gru_2[0][0]                      \n",
            "                                                                 gru_3[0][0]                      \n",
            "__________________________________________________________________________________________________\n",
            "concatenate_3 (Concatenate)     (None, 240)          0           gru_6[0][0]                      \n",
            "                                                                 gru_7[0][0]                      \n",
            "__________________________________________________________________________________________________\n",
            "dense_4 (Dense)                 (None, 1800)         6784200     Categorical[0][0]                \n",
            "__________________________________________________________________________________________________\n",
            "dense (Dense)                   (None, 120)          28920       concatenate_1[0][0]              \n",
            "__________________________________________________________________________________________________\n",
            "dense_2 (Dense)                 (None, 120)          28920       concatenate_3[0][0]              \n",
            "__________________________________________________________________________________________________\n",
            "dense_5 (Dense)                 (None, 1800)         3241800     dense_4[0][0]                    \n",
            "__________________________________________________________________________________________________\n",
            "dense_1 (Dense)                 (None, 10)           1210        dense[0][0]                      \n",
            "__________________________________________________________________________________________________\n",
            "dense_3 (Dense)                 (None, 10)           1210        dense_2[0][0]                    \n",
            "__________________________________________________________________________________________________\n",
            "dense_6 (Dense)                 (None, 10)           18010       dense_5[0][0]                    \n",
            "__________________________________________________________________________________________________\n",
            "concatenate_4 (Concatenate)     (None, 30)           0           dense_1[0][0]                    \n",
            "                                                                 dense_3[0][0]                    \n",
            "                                                                 dense_6[0][0]                    \n",
            "__________________________________________________________________________________________________\n",
            "dense_7 (Dense)                 (None, 15)           465         concatenate_4[0][0]              \n",
            "__________________________________________________________________________________________________\n",
            "dense_8 (Dense)                 (None, 1)            16          dense_7[0][0]                    \n",
            "==================================================================================================\n",
            "Total params: 17,921,311\n",
            "Trainable params: 17,921,311\n",
            "Non-trainable params: 0\n",
            "__________________________________________________________________________________________________\n"
          ],
          "name": "stdout"
        },
        {
          "output_type": "stream",
          "text": [
            "/usr/local/lib/python3.6/dist-packages/tensorflow/python/keras/engine/functional.py:543: UserWarning: Input dict contained keys ['Log1pSalary'] which did not match any model input. They will be ignored by the model.\n",
            "  [n for n in tensors.keys() if n not in ref_input_names])\n"
          ],
          "name": "stderr"
        }
      ]
    },
    {
      "cell_type": "code",
      "metadata": {
        "id": "O4t9EfZ2c0aO",
        "outputId": "f4fcf57c-7096-4190-d2ee-d18ff548f8dc",
        "colab": {
          "base_uri": "https://localhost:8080/"
        }
      },
      "source": [
        "batch_size = 256\n",
        "epochs = 100           \n",
        "steps_per_epoch = 100 \n",
        "\n",
        "model3 = build_model()\n",
        "\n",
        "early_stopping_cb = keras.callbacks.EarlyStopping(patience=10, restore_best_weights=True)\n",
        "\n",
        "history3 = model3.fit_generator(iterate_minibatches(data_train, batch_size, cycle=True, word_dropout=0.05), \n",
        "                    epochs=epochs, steps_per_epoch=steps_per_epoch, callbacks = [early_stopping_cb],\n",
        "                    \n",
        "                    validation_data=iterate_minibatches(data_val, batch_size, cycle=True),\n",
        "                    validation_steps=data_val.shape[0] // batch_size\n",
        "                   )"
      ],
      "execution_count": 29,
      "outputs": [
        {
          "output_type": "stream",
          "text": [
            "WARNING:tensorflow:From <ipython-input-29-ea5a954af752>:13: Model.fit_generator (from tensorflow.python.keras.engine.training) is deprecated and will be removed in a future version.\n",
            "Instructions for updating:\n",
            "Please use Model.fit, which supports generators.\n",
            "Epoch 1/100\n",
            "100/100 [==============================] - 91s 910ms/step - loss: 11.7595 - mae: 1.7946 - val_loss: 0.1771 - val_mae: 0.3299\n",
            "Epoch 2/100\n",
            "100/100 [==============================] - 91s 906ms/step - loss: 0.1547 - mae: 0.3049 - val_loss: 0.1368 - val_mae: 0.2860\n",
            "Epoch 3/100\n",
            "100/100 [==============================] - 90s 896ms/step - loss: 0.1244 - mae: 0.2700 - val_loss: 0.1051 - val_mae: 0.2458\n",
            "Epoch 4/100\n",
            "100/100 [==============================] - 87s 873ms/step - loss: 0.0985 - mae: 0.2362 - val_loss: 0.0915 - val_mae: 0.2281\n",
            "Epoch 5/100\n",
            "100/100 [==============================] - 88s 881ms/step - loss: 0.0915 - mae: 0.2265 - val_loss: 0.0851 - val_mae: 0.2188\n",
            "Epoch 6/100\n",
            "100/100 [==============================] - 88s 882ms/step - loss: 0.0866 - mae: 0.2206 - val_loss: 0.0866 - val_mae: 0.2205\n",
            "Epoch 7/100\n",
            "100/100 [==============================] - 87s 866ms/step - loss: 0.0842 - mae: 0.2174 - val_loss: 0.0780 - val_mae: 0.2084\n",
            "Epoch 8/100\n",
            "100/100 [==============================] - 88s 883ms/step - loss: 0.0776 - mae: 0.2060 - val_loss: 0.0738 - val_mae: 0.2022\n",
            "Epoch 9/100\n",
            "100/100 [==============================] - 86s 865ms/step - loss: 0.0681 - mae: 0.1942 - val_loss: 0.0714 - val_mae: 0.1989\n",
            "Epoch 10/100\n",
            "100/100 [==============================] - 89s 886ms/step - loss: 0.0683 - mae: 0.1959 - val_loss: 0.0693 - val_mae: 0.1961\n",
            "Epoch 11/100\n",
            "100/100 [==============================] - 86s 858ms/step - loss: 0.0670 - mae: 0.1932 - val_loss: 0.0667 - val_mae: 0.1909\n",
            "Epoch 12/100\n",
            "100/100 [==============================] - 87s 875ms/step - loss: 0.0683 - mae: 0.1936 - val_loss: 0.0688 - val_mae: 0.1956\n",
            "Epoch 13/100\n",
            "100/100 [==============================] - 86s 856ms/step - loss: 0.0645 - mae: 0.1875 - val_loss: 0.0671 - val_mae: 0.1917\n",
            "Epoch 14/100\n",
            "100/100 [==============================] - 87s 869ms/step - loss: 0.0617 - mae: 0.1832 - val_loss: 0.0611 - val_mae: 0.1819\n",
            "Epoch 15/100\n",
            "100/100 [==============================] - 87s 867ms/step - loss: 0.0622 - mae: 0.1835 - val_loss: 0.0633 - val_mae: 0.1869\n",
            "Epoch 16/100\n",
            "100/100 [==============================] - 86s 863ms/step - loss: 0.0554 - mae: 0.1739 - val_loss: 0.0652 - val_mae: 0.1893\n",
            "Epoch 17/100\n",
            "100/100 [==============================] - 86s 860ms/step - loss: 0.0531 - mae: 0.1701 - val_loss: 0.0596 - val_mae: 0.1789\n",
            "Epoch 18/100\n",
            "100/100 [==============================] - 88s 880ms/step - loss: 0.0547 - mae: 0.1737 - val_loss: 0.0592 - val_mae: 0.1786\n",
            "Epoch 19/100\n",
            "100/100 [==============================] - 88s 883ms/step - loss: 0.0529 - mae: 0.1694 - val_loss: 0.0638 - val_mae: 0.1885\n",
            "Epoch 20/100\n",
            "100/100 [==============================] - 87s 873ms/step - loss: 0.0543 - mae: 0.1736 - val_loss: 0.0575 - val_mae: 0.1750\n",
            "Epoch 21/100\n",
            "100/100 [==============================] - 87s 869ms/step - loss: 0.0524 - mae: 0.1683 - val_loss: 0.0584 - val_mae: 0.1777\n",
            "Epoch 22/100\n",
            "100/100 [==============================] - 88s 876ms/step - loss: 0.0534 - mae: 0.1686 - val_loss: 0.0605 - val_mae: 0.1832\n",
            "Epoch 23/100\n",
            "100/100 [==============================] - 86s 861ms/step - loss: 0.0555 - mae: 0.1732 - val_loss: 0.0559 - val_mae: 0.1724\n",
            "Epoch 24/100\n",
            "100/100 [==============================] - 88s 877ms/step - loss: 0.0448 - mae: 0.1543 - val_loss: 0.0579 - val_mae: 0.1761\n",
            "Epoch 25/100\n",
            "100/100 [==============================] - 89s 892ms/step - loss: 0.0467 - mae: 0.1592 - val_loss: 0.0574 - val_mae: 0.1762\n",
            "Epoch 26/100\n",
            "100/100 [==============================] - 87s 870ms/step - loss: 0.0460 - mae: 0.1580 - val_loss: 0.0588 - val_mae: 0.1793\n",
            "Epoch 27/100\n",
            "100/100 [==============================] - 88s 881ms/step - loss: 0.0462 - mae: 0.1580 - val_loss: 0.0549 - val_mae: 0.1710\n",
            "Epoch 28/100\n",
            "100/100 [==============================] - 89s 890ms/step - loss: 0.0467 - mae: 0.1584 - val_loss: 0.0612 - val_mae: 0.1848\n",
            "Epoch 29/100\n",
            "100/100 [==============================] - 88s 877ms/step - loss: 0.0475 - mae: 0.1603 - val_loss: 0.0581 - val_mae: 0.1777\n",
            "Epoch 30/100\n",
            "100/100 [==============================] - 87s 866ms/step - loss: 0.0479 - mae: 0.1609 - val_loss: 0.0593 - val_mae: 0.1792\n",
            "Epoch 31/100\n",
            "100/100 [==============================] - 88s 878ms/step - loss: 0.0451 - mae: 0.1573 - val_loss: 0.0544 - val_mae: 0.1699\n",
            "Epoch 32/100\n",
            "100/100 [==============================] - 88s 882ms/step - loss: 0.0451 - mae: 0.1562 - val_loss: 0.0614 - val_mae: 0.1841\n",
            "Epoch 33/100\n",
            "100/100 [==============================] - 90s 904ms/step - loss: 0.0425 - mae: 0.1528 - val_loss: 0.0547 - val_mae: 0.1703\n",
            "Epoch 34/100\n",
            "100/100 [==============================] - 89s 890ms/step - loss: 0.0420 - mae: 0.1499 - val_loss: 0.0548 - val_mae: 0.1704\n",
            "Epoch 35/100\n",
            "100/100 [==============================] - 90s 896ms/step - loss: 0.0428 - mae: 0.1519 - val_loss: 0.0547 - val_mae: 0.1708\n",
            "Epoch 36/100\n",
            "100/100 [==============================] - 90s 900ms/step - loss: 0.0443 - mae: 0.1540 - val_loss: 0.0562 - val_mae: 0.1738\n",
            "Epoch 37/100\n",
            "100/100 [==============================] - 87s 874ms/step - loss: 0.0425 - mae: 0.1520 - val_loss: 0.0639 - val_mae: 0.1905\n",
            "Epoch 38/100\n",
            "100/100 [==============================] - 89s 886ms/step - loss: 0.0449 - mae: 0.1573 - val_loss: 0.0607 - val_mae: 0.1829\n",
            "Epoch 39/100\n",
            "100/100 [==============================] - 89s 891ms/step - loss: 0.0383 - mae: 0.1437 - val_loss: 0.0711 - val_mae: 0.2040\n",
            "Epoch 40/100\n",
            "100/100 [==============================] - 89s 892ms/step - loss: 0.0380 - mae: 0.1440 - val_loss: 0.0540 - val_mae: 0.1683\n",
            "Epoch 41/100\n",
            "100/100 [==============================] - 89s 886ms/step - loss: 0.0380 - mae: 0.1430 - val_loss: 0.0549 - val_mae: 0.1708\n",
            "Epoch 42/100\n",
            "100/100 [==============================] - 87s 871ms/step - loss: 0.0386 - mae: 0.1446 - val_loss: 0.0539 - val_mae: 0.1680\n",
            "Epoch 43/100\n",
            "100/100 [==============================] - 87s 873ms/step - loss: 0.0406 - mae: 0.1492 - val_loss: 0.0571 - val_mae: 0.1748\n",
            "Epoch 44/100\n",
            "100/100 [==============================] - 90s 897ms/step - loss: 0.0395 - mae: 0.1473 - val_loss: 0.0541 - val_mae: 0.1687\n",
            "Epoch 45/100\n",
            "100/100 [==============================] - 88s 877ms/step - loss: 0.0400 - mae: 0.1462 - val_loss: 0.0545 - val_mae: 0.1694\n",
            "Epoch 46/100\n",
            "100/100 [==============================] - 88s 879ms/step - loss: 0.0384 - mae: 0.1437 - val_loss: 0.0531 - val_mae: 0.1669\n",
            "Epoch 47/100\n",
            "100/100 [==============================] - 89s 887ms/step - loss: 0.0337 - mae: 0.1351 - val_loss: 0.0539 - val_mae: 0.1682\n",
            "Epoch 48/100\n",
            "100/100 [==============================] - 89s 894ms/step - loss: 0.0326 - mae: 0.1319 - val_loss: 0.0547 - val_mae: 0.1698\n",
            "Epoch 49/100\n",
            "100/100 [==============================] - 89s 890ms/step - loss: 0.0388 - mae: 0.1454 - val_loss: 0.0593 - val_mae: 0.1803\n",
            "Epoch 50/100\n",
            "100/100 [==============================] - 89s 892ms/step - loss: 0.0349 - mae: 0.1380 - val_loss: 0.0665 - val_mae: 0.1941\n",
            "Epoch 51/100\n",
            "100/100 [==============================] - 89s 889ms/step - loss: 0.0367 - mae: 0.1419 - val_loss: 0.0532 - val_mae: 0.1668\n",
            "Epoch 52/100\n",
            "100/100 [==============================] - 90s 903ms/step - loss: 0.0352 - mae: 0.1388 - val_loss: 0.0546 - val_mae: 0.1695\n",
            "Epoch 53/100\n",
            "100/100 [==============================] - 88s 876ms/step - loss: 0.0383 - mae: 0.1430 - val_loss: 0.0532 - val_mae: 0.1668\n",
            "Epoch 54/100\n",
            "100/100 [==============================] - 88s 877ms/step - loss: 0.0334 - mae: 0.1335 - val_loss: 0.0587 - val_mae: 0.1780\n",
            "Epoch 55/100\n",
            "100/100 [==============================] - 90s 902ms/step - loss: 0.0295 - mae: 0.1262 - val_loss: 0.0544 - val_mae: 0.1695\n",
            "Epoch 56/100\n",
            "100/100 [==============================] - 87s 873ms/step - loss: 0.0335 - mae: 0.1370 - val_loss: 0.0532 - val_mae: 0.1667\n"
          ],
          "name": "stdout"
        }
      ]
    },
    {
      "cell_type": "code",
      "metadata": {
        "id": "xsDpF6oO-p51",
        "outputId": "dd316c76-004d-49bf-c26b-d77336e61bbf",
        "colab": {
          "base_uri": "https://localhost:8080/",
          "height": 596
        }
      },
      "source": [
        "pd.DataFrame(history3.history).plot(figsize=(15, 10))\n",
        "plt.grid(True)\n",
        "plt.gca().set_ylim(0, 1)\n",
        "plt.show()"
      ],
      "execution_count": 30,
      "outputs": [
        {
          "output_type": "display_data",
          "data": {
            "image/png": "[encoded data removed]",
            "text/plain": [
              "<Figure size 1080x720 with 1 Axes>"
            ]
          },
          "metadata": {
            "tags": [],
            "needs_background": "light"
          }
        }
      ]
    },
    {
      "cell_type": "code",
      "metadata": {
        "id": "q3EPVIly99nQ"
      },
      "source": [
        "model3.save('rnn_model.h5')"
      ],
      "execution_count": 31,
      "outputs": []
    },
    {
      "cell_type": "markdown",
      "metadata": {
        "id": "Ki-VJo6Sh3pZ"
      },
      "source": [
        "Lets look at the distribution of title and description strings lengths"
      ]
    },
    {
      "cell_type": "code",
      "metadata": {
        "id": "V_eNBGsVh7PX",
        "outputId": "e4380fac-08fd-40b7-85b5-762cd1eeb722",
        "colab": {
          "base_uri": "https://localhost:8080/",
          "height": 337
        }
      },
      "source": [
        "data['Title'].apply(lambda x: len(x.split())).hist(figsize=(8, 5), bins=20)"
      ],
      "execution_count": 32,
      "outputs": [
        {
          "output_type": "execute_result",
          "data": {
            "text/plain": [
              "<matplotlib.axes._subplots.AxesSubplot at 0x7f06c3fd86a0>"
            ]
          },
          "metadata": {
            "tags": []
          },
          "execution_count": 32
        },
        {
          "output_type": "display_data",
          "data": {
            "image/png": "[encoded data removed]",
            "text/plain": [
              "<Figure size 576x360 with 1 Axes>"
            ]
          },
          "metadata": {
            "tags": [],
            "needs_background": "light"
          }
        }
      ]
    },
    {
      "cell_type": "code",
      "metadata": {
        "id": "jftZOQU4h9Dy",
        "outputId": "8133a02f-8307-4cf7-df69-3ecc620709ca",
        "colab": {
          "base_uri": "https://localhost:8080/",
          "height": 337
        }
      },
      "source": [
        "data['FullDescription'].apply(lambda x: len(x.split())).hist(figsize=(8, 5), bins=40)"
      ],
      "execution_count": 33,
      "outputs": [
        {
          "output_type": "execute_result",
          "data": {
            "text/plain": [
              "<matplotlib.axes._subplots.AxesSubplot at 0x7f06c4257748>"
            ]
          },
          "metadata": {
            "tags": []
          },
          "execution_count": 33
        },
        {
          "output_type": "display_data",
          "data": {
            "image/png": "[encoded data removed]",
            "text/plain": [
              "<Figure size 576x360 with 1 Axes>"
            ]
          },
          "metadata": {
            "tags": [],
            "needs_background": "light"
          }
        }
      ]
    },
    {
      "cell_type": "markdown",
      "metadata": {
        "id": "8Xqurs7riEEA"
      },
      "source": [
        "From the distributions of sequence lengths, it is obvious that FullDescription strings are much longer. Lets try to apply ConvNet to Title and RNN to FullDescription, since RNNs are more suitable for working with long sequences."
      ]
    },
    {
      "cell_type": "code",
      "metadata": {
        "id": "bHzDDxaU-ONp"
      },
      "source": [
        "def build_model(n_tokens=len(tokens), n_cat_features=len(categorical_vectorizer.vocabulary_), hid_size=200):\n",
        "  title_input = L.Input(shape=[None], name='Title')\n",
        "  descr_input = L.Input(shape=[None], name='FullDescription')\n",
        "  categ_input = L.Input(shape=[n_cat_features], name='Categorical') #(b_s, n_cat_features)\n",
        "\n",
        "  embedding = L.Embedding(input_dim=n_tokens, output_dim=hid_size)\n",
        "\n",
        "  #title part\n",
        "  title = embedding(title_input) #(b_s, seq_len, hid_size)\n",
        "  title = L.Conv1D(filters=32, kernel_size=5, padding='same', activation='relu')(title) #(b_s, new_seq_len, filters)\n",
        "  title = L.GlobalAveragePooling1D()(title) #(b_s, filters)\n",
        "  title_output = L.Dense(units=10, activation='relu')(title) #(b_s, 10)\n",
        "\n",
        "  #description part\n",
        "  descr_embed = embedding(descr_input) #(b_s, seq_len, 200)\n",
        "  descr_forw = L.GRU(units=120, return_sequences=True)(descr_embed) #(b_s, seq_len, units)\n",
        "  descr_back = L.GRU(units=120, go_backwards=True, return_sequences=True)(descr_embed) #(b_s, seq_len, units)\n",
        "  descr_concat1 = L.Concatenate(axis=2)([descr_forw, descr_back]) #(b_s, seq_len, 2*units)\n",
        "\n",
        "  descr_forw = L.GRU(units=120, return_sequences=False)(descr_concat1) #(b_s, units)\n",
        "  descr_back = L.GRU(units=120, go_backwards=True, return_sequences=False)(descr_concat1) #(b_s, units)\n",
        "  descr_concat2 = L.Concatenate(axis=1)([descr_forw, descr_back]) #(b_s, 2*units)\n",
        "\n",
        "  descr = L.Dense(120, activation='relu')(descr_concat2) #(b_s, 120)\n",
        "  descr_output = L.Dense(10, activation='relu')(descr) #(b_s, 10)\n",
        "\n",
        "  #categorical part\n",
        "  categ = L.Dense(units=1800, activation='relu')(categ_input) #(b_s, 1800)\n",
        "  categ = L.Dense(units=1800, activation='relu')(categ) #(b_s, 1800)\n",
        "  categ_output = L.Dense(units=10, activation='relu')(categ) #(b_s, 10)\n",
        "\n",
        "  #concatenation\n",
        "  concat = L.Concatenate()([title_output, descr_output, categ_output]) #(b_s, 30)\n",
        "  concat = L.Dense(units=15, activation='relu')(concat) #(b_s, 15)\n",
        "  final_dense = L.Dense(units=1)(concat) #(b_s, 1)\n",
        "\n",
        "  #model\n",
        "  model = keras.Model(inputs=[title_input, descr_input, categ_input], outputs=[final_dense])\n",
        "  model.compile(optimizer='adam', loss='mse', metrics=['mae'])\n",
        "  return model"
      ],
      "execution_count": 34,
      "outputs": []
    },
    {
      "cell_type": "code",
      "metadata": {
        "id": "lU-yJYXD-oJ5",
        "outputId": "4245281e-92fb-4f16-f502-c9e4577fe2c3",
        "colab": {
          "base_uri": "https://localhost:8080/"
        }
      },
      "source": [
        "model4 = build_model()\n",
        "model4.summary()\n",
        "\n",
        "dummy_pred = model4.predict(make_batch(data_train[:100]))\n",
        "dummy_loss = model4.train_on_batch(make_batch(data_train[:100]), data_train['Log1pSalary'][:100])[0]"
      ],
      "execution_count": 35,
      "outputs": [
        {
          "output_type": "stream",
          "text": [
            "Model: \"functional_5\"\n",
            "__________________________________________________________________________________________________\n",
            "Layer (type)                    Output Shape         Param #     Connected to                     \n",
            "==================================================================================================\n",
            "Title (InputLayer)              [(None, None)]       0                                            \n",
            "__________________________________________________________________________________________________\n",
            "FullDescription (InputLayer)    [(None, None)]       0                                            \n",
            "__________________________________________________________________________________________________\n",
            "embedding_2 (Embedding)         (None, None, 200)    6831600     Title[0][0]                      \n",
            "                                                                 FullDescription[0][0]            \n",
            "__________________________________________________________________________________________________\n",
            "gru_16 (GRU)                    (None, None, 120)    115920      embedding_2[1][0]                \n",
            "__________________________________________________________________________________________________\n",
            "gru_17 (GRU)                    (None, None, 120)    115920      embedding_2[1][0]                \n",
            "__________________________________________________________________________________________________\n",
            "concatenate_10 (Concatenate)    (None, None, 240)    0           gru_16[0][0]                     \n",
            "                                                                 gru_17[0][0]                     \n",
            "__________________________________________________________________________________________________\n",
            "gru_18 (GRU)                    (None, 120)          130320      concatenate_10[0][0]             \n",
            "__________________________________________________________________________________________________\n",
            "gru_19 (GRU)                    (None, 120)          130320      concatenate_10[0][0]             \n",
            "__________________________________________________________________________________________________\n",
            "Categorical (InputLayer)        [(None, 3768)]       0                                            \n",
            "__________________________________________________________________________________________________\n",
            "conv1d (Conv1D)                 (None, None, 32)     32032       embedding_2[0][0]                \n",
            "__________________________________________________________________________________________________\n",
            "concatenate_11 (Concatenate)    (None, 240)          0           gru_18[0][0]                     \n",
            "                                                                 gru_19[0][0]                     \n",
            "__________________________________________________________________________________________________\n",
            "dense_21 (Dense)                (None, 1800)         6784200     Categorical[0][0]                \n",
            "__________________________________________________________________________________________________\n",
            "global_average_pooling1d (Globa (None, 32)           0           conv1d[0][0]                     \n",
            "__________________________________________________________________________________________________\n",
            "dense_19 (Dense)                (None, 120)          28920       concatenate_11[0][0]             \n",
            "__________________________________________________________________________________________________\n",
            "dense_22 (Dense)                (None, 1800)         3241800     dense_21[0][0]                   \n",
            "__________________________________________________________________________________________________\n",
            "dense_18 (Dense)                (None, 10)           330         global_average_pooling1d[0][0]   \n",
            "__________________________________________________________________________________________________\n",
            "dense_20 (Dense)                (None, 10)           1210        dense_19[0][0]                   \n",
            "__________________________________________________________________________________________________\n",
            "dense_23 (Dense)                (None, 10)           18010       dense_22[0][0]                   \n",
            "__________________________________________________________________________________________________\n",
            "concatenate_12 (Concatenate)    (None, 30)           0           dense_18[0][0]                   \n",
            "                                                                 dense_20[0][0]                   \n",
            "                                                                 dense_23[0][0]                   \n",
            "__________________________________________________________________________________________________\n",
            "dense_24 (Dense)                (None, 15)           465         concatenate_12[0][0]             \n",
            "__________________________________________________________________________________________________\n",
            "dense_25 (Dense)                (None, 1)            16          dense_24[0][0]                   \n",
            "==================================================================================================\n",
            "Total params: 17,431,063\n",
            "Trainable params: 17,431,063\n",
            "Non-trainable params: 0\n",
            "__________________________________________________________________________________________________\n"
          ],
          "name": "stdout"
        },
        {
          "output_type": "stream",
          "text": [
            "/usr/local/lib/python3.6/dist-packages/tensorflow/python/keras/engine/functional.py:543: UserWarning: Input dict contained keys ['Log1pSalary'] which did not match any model input. They will be ignored by the model.\n",
            "  [n for n in tensors.keys() if n not in ref_input_names])\n"
          ],
          "name": "stderr"
        },
        {
          "output_type": "stream",
          "text": [
            "Everythong is set\n"
          ],
          "name": "stdout"
        }
      ]
    },
    {
      "cell_type": "code",
      "metadata": {
        "id": "QljmqWrL_tKp",
        "outputId": "f0c957ba-82d5-49e3-a03d-c05a7c574dc0",
        "colab": {
          "base_uri": "https://localhost:8080/"
        }
      },
      "source": [
        "batch_size = 256\n",
        "epochs = 100           # definitely too small\n",
        "steps_per_epoch = 100  # for full pass over data: (len(data_train) - 1) // batch_size + 1\n",
        "\n",
        "model4 = build_model()\n",
        "\n",
        "early_stopping_cb = keras.callbacks.EarlyStopping(patience=10, restore_best_weights=True)\n",
        "\n",
        "history4 = model4.fit_generator(iterate_minibatches(data_train, batch_size, cycle=True, word_dropout=0.05), \n",
        "                    epochs=epochs, steps_per_epoch=steps_per_epoch, callbacks = [early_stopping_cb],\n",
        "                    \n",
        "                    validation_data=iterate_minibatches(data_val, batch_size, cycle=True),\n",
        "                    validation_steps=data_val.shape[0] // batch_size\n",
        "                   )"
      ],
      "execution_count": 36,
      "outputs": [
        {
          "output_type": "stream",
          "text": [
            "Epoch 1/100\n",
            "100/100 [==============================] - 86s 857ms/step - loss: 6.2380 - mae: 1.3874 - val_loss: 0.2350 - val_mae: 0.3732\n",
            "Epoch 2/100\n",
            "100/100 [==============================] - 88s 883ms/step - loss: 0.2111 - mae: 0.3524 - val_loss: 0.1946 - val_mae: 0.3376\n",
            "Epoch 3/100\n",
            "100/100 [==============================] - 84s 845ms/step - loss: 0.1768 - mae: 0.3181 - val_loss: 0.1733 - val_mae: 0.3154\n",
            "Epoch 4/100\n",
            "100/100 [==============================] - 86s 856ms/step - loss: 0.1503 - mae: 0.2885 - val_loss: 0.1568 - val_mae: 0.2978\n",
            "Epoch 5/100\n",
            "100/100 [==============================] - 86s 863ms/step - loss: 0.1329 - mae: 0.2698 - val_loss: 0.1275 - val_mae: 0.2649\n",
            "Epoch 6/100\n",
            "100/100 [==============================] - 85s 850ms/step - loss: 0.1208 - mae: 0.2547 - val_loss: 0.1214 - val_mae: 0.2641\n",
            "Epoch 7/100\n",
            "100/100 [==============================] - 88s 880ms/step - loss: 0.1096 - mae: 0.2480 - val_loss: 0.0990 - val_mae: 0.2329\n",
            "Epoch 8/100\n",
            "100/100 [==============================] - 85s 846ms/step - loss: 0.0999 - mae: 0.2371 - val_loss: 0.0962 - val_mae: 0.2306\n",
            "Epoch 9/100\n",
            "100/100 [==============================] - 85s 854ms/step - loss: 0.0932 - mae: 0.2260 - val_loss: 0.0863 - val_mae: 0.2180\n",
            "Epoch 10/100\n",
            "100/100 [==============================] - 84s 841ms/step - loss: 0.0806 - mae: 0.2108 - val_loss: 0.0765 - val_mae: 0.2065\n",
            "Epoch 11/100\n",
            "100/100 [==============================] - 85s 855ms/step - loss: 0.0738 - mae: 0.2012 - val_loss: 0.0709 - val_mae: 0.1984\n",
            "Epoch 12/100\n",
            "100/100 [==============================] - 85s 854ms/step - loss: 0.0777 - mae: 0.2087 - val_loss: 0.0682 - val_mae: 0.1943\n",
            "Epoch 13/100\n",
            "100/100 [==============================] - 85s 848ms/step - loss: 0.0708 - mae: 0.1971 - val_loss: 0.0669 - val_mae: 0.1929\n",
            "Epoch 14/100\n",
            "100/100 [==============================] - 88s 882ms/step - loss: 0.0705 - mae: 0.1973 - val_loss: 0.0739 - val_mae: 0.2045\n",
            "Epoch 15/100\n",
            "100/100 [==============================] - 86s 862ms/step - loss: 0.0653 - mae: 0.1912 - val_loss: 0.0631 - val_mae: 0.1857\n",
            "Epoch 16/100\n",
            "100/100 [==============================] - 87s 870ms/step - loss: 0.0583 - mae: 0.1789 - val_loss: 0.0649 - val_mae: 0.1900\n",
            "Epoch 17/100\n",
            "100/100 [==============================] - 86s 860ms/step - loss: 0.0533 - mae: 0.1707 - val_loss: 0.0617 - val_mae: 0.1842\n",
            "Epoch 18/100\n",
            "100/100 [==============================] - 84s 840ms/step - loss: 0.0542 - mae: 0.1730 - val_loss: 0.0606 - val_mae: 0.1826\n",
            "Epoch 19/100\n",
            "100/100 [==============================] - 86s 859ms/step - loss: 0.0552 - mae: 0.1750 - val_loss: 0.0642 - val_mae: 0.1902\n",
            "Epoch 20/100\n",
            "100/100 [==============================] - 86s 864ms/step - loss: 0.0593 - mae: 0.1819 - val_loss: 0.0975 - val_mae: 0.2463\n",
            "Epoch 21/100\n",
            "100/100 [==============================] - 84s 837ms/step - loss: 0.0598 - mae: 0.1833 - val_loss: 0.0590 - val_mae: 0.1796\n",
            "Epoch 22/100\n",
            "100/100 [==============================] - 87s 872ms/step - loss: 0.0572 - mae: 0.1784 - val_loss: 0.0580 - val_mae: 0.1779\n",
            "Epoch 23/100\n",
            "100/100 [==============================] - 86s 856ms/step - loss: 0.0542 - mae: 0.1736 - val_loss: 0.0660 - val_mae: 0.1938\n",
            "Epoch 24/100\n",
            "100/100 [==============================] - 87s 866ms/step - loss: 0.0490 - mae: 0.1639 - val_loss: 0.0753 - val_mae: 0.2119\n",
            "Epoch 25/100\n",
            "100/100 [==============================] - 84s 840ms/step - loss: 0.0459 - mae: 0.1597 - val_loss: 0.0577 - val_mae: 0.1771\n",
            "Epoch 26/100\n",
            "100/100 [==============================] - 85s 848ms/step - loss: 0.0463 - mae: 0.1598 - val_loss: 0.0600 - val_mae: 0.1820\n",
            "Epoch 27/100\n",
            "100/100 [==============================] - 86s 860ms/step - loss: 0.0478 - mae: 0.1612 - val_loss: 0.0578 - val_mae: 0.1774\n",
            "Epoch 28/100\n",
            "100/100 [==============================] - 87s 867ms/step - loss: 0.0499 - mae: 0.1674 - val_loss: 0.0680 - val_mae: 0.1986\n",
            "Epoch 29/100\n",
            "100/100 [==============================] - 85s 855ms/step - loss: 0.0479 - mae: 0.1615 - val_loss: 0.0578 - val_mae: 0.1775\n",
            "Epoch 30/100\n",
            "100/100 [==============================] - 85s 850ms/step - loss: 0.0459 - mae: 0.1598 - val_loss: 0.0598 - val_mae: 0.1824\n",
            "Epoch 31/100\n",
            "100/100 [==============================] - 86s 859ms/step - loss: 0.0427 - mae: 0.1533 - val_loss: 0.0552 - val_mae: 0.1725\n",
            "Epoch 32/100\n",
            "100/100 [==============================] - 85s 855ms/step - loss: 0.0386 - mae: 0.1460 - val_loss: 0.0539 - val_mae: 0.1695\n",
            "Epoch 33/100\n",
            "100/100 [==============================] - 85s 845ms/step - loss: 0.0386 - mae: 0.1435 - val_loss: 0.0598 - val_mae: 0.1824\n",
            "Epoch 34/100\n",
            "100/100 [==============================] - 85s 851ms/step - loss: 0.0410 - mae: 0.1513 - val_loss: 0.0607 - val_mae: 0.1829\n",
            "Epoch 35/100\n",
            "100/100 [==============================] - 85s 849ms/step - loss: 0.0425 - mae: 0.1532 - val_loss: 0.0582 - val_mae: 0.1782\n",
            "Epoch 36/100\n",
            "100/100 [==============================] - 85s 846ms/step - loss: 0.0498 - mae: 0.1686 - val_loss: 0.0596 - val_mae: 0.1812\n",
            "Epoch 37/100\n",
            "100/100 [==============================] - 85s 848ms/step - loss: 0.0418 - mae: 0.1526 - val_loss: 0.0538 - val_mae: 0.1693\n",
            "Epoch 38/100\n",
            "100/100 [==============================] - 85s 846ms/step - loss: 0.0436 - mae: 0.1537 - val_loss: 0.0603 - val_mae: 0.1833\n",
            "Epoch 39/100\n",
            "100/100 [==============================] - 85s 847ms/step - loss: 0.0347 - mae: 0.1371 - val_loss: 0.0556 - val_mae: 0.1734\n",
            "Epoch 40/100\n",
            "100/100 [==============================] - 86s 855ms/step - loss: 0.0329 - mae: 0.1342 - val_loss: 0.0589 - val_mae: 0.1806\n",
            "Epoch 41/100\n",
            "100/100 [==============================] - 86s 857ms/step - loss: 0.0352 - mae: 0.1388 - val_loss: 0.0563 - val_mae: 0.1750\n",
            "Epoch 42/100\n",
            "100/100 [==============================] - 83s 834ms/step - loss: 0.0348 - mae: 0.1378 - val_loss: 0.0548 - val_mae: 0.1719\n",
            "Epoch 43/100\n",
            "100/100 [==============================] - 85s 848ms/step - loss: 0.0360 - mae: 0.1397 - val_loss: 0.0534 - val_mae: 0.1679\n",
            "Epoch 44/100\n",
            "100/100 [==============================] - 85s 847ms/step - loss: 0.0353 - mae: 0.1391 - val_loss: 0.0521 - val_mae: 0.1656\n",
            "Epoch 45/100\n",
            "100/100 [==============================] - 85s 851ms/step - loss: 0.0372 - mae: 0.1433 - val_loss: 0.0527 - val_mae: 0.1667\n",
            "Epoch 46/100\n",
            "100/100 [==============================] - 83s 833ms/step - loss: 0.0358 - mae: 0.1401 - val_loss: 0.0524 - val_mae: 0.1666\n",
            "Epoch 47/100\n",
            "100/100 [==============================] - 84s 836ms/step - loss: 0.0284 - mae: 0.1261 - val_loss: 0.0528 - val_mae: 0.1670\n",
            "Epoch 48/100\n",
            "100/100 [==============================] - 85s 851ms/step - loss: 0.0290 - mae: 0.1253 - val_loss: 0.0536 - val_mae: 0.1686\n",
            "Epoch 49/100\n",
            "100/100 [==============================] - 85s 851ms/step - loss: 0.0291 - mae: 0.1262 - val_loss: 0.0537 - val_mae: 0.1683\n",
            "Epoch 50/100\n",
            "100/100 [==============================] - 84s 836ms/step - loss: 0.0305 - mae: 0.1296 - val_loss: 0.0520 - val_mae: 0.1652\n",
            "Epoch 51/100\n",
            "100/100 [==============================] - 83s 830ms/step - loss: 0.0318 - mae: 0.1319 - val_loss: 0.0526 - val_mae: 0.1669\n",
            "Epoch 52/100\n",
            "100/100 [==============================] - 84s 835ms/step - loss: 0.0314 - mae: 0.1306 - val_loss: 0.0518 - val_mae: 0.1645\n",
            "Epoch 53/100\n",
            "100/100 [==============================] - 84s 841ms/step - loss: 0.0334 - mae: 0.1357 - val_loss: 0.0549 - val_mae: 0.1719\n",
            "Epoch 54/100\n",
            "100/100 [==============================] - 86s 858ms/step - loss: 0.0321 - mae: 0.1334 - val_loss: 0.0521 - val_mae: 0.1652\n",
            "Epoch 55/100\n",
            "100/100 [==============================] - 84s 841ms/step - loss: 0.0246 - mae: 0.1154 - val_loss: 0.0523 - val_mae: 0.1655\n",
            "Epoch 56/100\n",
            "100/100 [==============================] - 86s 859ms/step - loss: 0.0261 - mae: 0.1203 - val_loss: 0.0524 - val_mae: 0.1655\n",
            "Epoch 57/100\n",
            "100/100 [==============================] - 85s 847ms/step - loss: 0.0272 - mae: 0.1230 - val_loss: 0.0535 - val_mae: 0.1687\n",
            "Epoch 58/100\n",
            "100/100 [==============================] - 82s 825ms/step - loss: 0.0273 - mae: 0.1220 - val_loss: 0.0526 - val_mae: 0.1664\n",
            "Epoch 59/100\n",
            "100/100 [==============================] - 84s 838ms/step - loss: 0.0277 - mae: 0.1231 - val_loss: 0.0514 - val_mae: 0.1636\n",
            "Epoch 60/100\n",
            "100/100 [==============================] - 87s 868ms/step - loss: 0.0285 - mae: 0.1240 - val_loss: 0.0525 - val_mae: 0.1656\n",
            "Epoch 61/100\n",
            "100/100 [==============================] - 83s 835ms/step - loss: 0.0283 - mae: 0.1240 - val_loss: 0.0521 - val_mae: 0.1651\n",
            "Epoch 62/100\n",
            "100/100 [==============================] - 85s 851ms/step - loss: 0.0228 - mae: 0.1128 - val_loss: 0.0598 - val_mae: 0.1811\n",
            "Epoch 63/100\n",
            "100/100 [==============================] - 84s 838ms/step - loss: 0.0237 - mae: 0.1153 - val_loss: 0.0516 - val_mae: 0.1640\n",
            "Epoch 64/100\n",
            "100/100 [==============================] - 83s 828ms/step - loss: 0.0230 - mae: 0.1122 - val_loss: 0.0537 - val_mae: 0.1684\n",
            "Epoch 65/100\n",
            "100/100 [==============================] - 85s 850ms/step - loss: 0.0234 - mae: 0.1138 - val_loss: 0.0553 - val_mae: 0.1725\n",
            "Epoch 66/100\n",
            "100/100 [==============================] - 84s 842ms/step - loss: 0.0271 - mae: 0.1225 - val_loss: 0.0520 - val_mae: 0.1644\n",
            "Epoch 67/100\n",
            "100/100 [==============================] - 84s 841ms/step - loss: 0.0247 - mae: 0.1153 - val_loss: 0.0529 - val_mae: 0.1658\n",
            "Epoch 68/100\n",
            "100/100 [==============================] - 85s 852ms/step - loss: 0.0242 - mae: 0.1155 - val_loss: 0.0521 - val_mae: 0.1643\n",
            "Epoch 69/100\n",
            "100/100 [==============================] - 85s 855ms/step - loss: 0.0253 - mae: 0.1172 - val_loss: 0.0531 - val_mae: 0.1663\n"
          ],
          "name": "stdout"
        }
      ]
    },
    {
      "cell_type": "markdown",
      "metadata": {
        "id": "JORh9La0KYnk"
      },
      "source": [
        "This model shows the best perfomance. And even though it needs some regularization, we'll leave it for now."
      ]
    },
    {
      "cell_type": "code",
      "metadata": {
        "id": "F0CnRybCiNGO"
      },
      "source": [
        "model4.save('rnn_conv.h5')"
      ],
      "execution_count": 37,
      "outputs": []
    }
  ]
}